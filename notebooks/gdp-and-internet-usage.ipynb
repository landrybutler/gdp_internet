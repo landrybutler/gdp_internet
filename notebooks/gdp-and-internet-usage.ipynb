{
 "cells": [
  {
   "cell_type": "code",
   "execution_count": 1,
   "metadata": {},
   "outputs": [],
   "source": [
    "# import libraries for project\n",
    "import pandas as pd \n",
    "import numpy as np  \n",
    "import matplotlib.pyplot as plt  \n",
    "import seaborn as sns"
   ]
  },
  {
   "cell_type": "code",
   "execution_count": 2,
   "metadata": {},
   "outputs": [],
   "source": [
    "# This will make your plots show in the notebook without having to call plt.show() every time.\n",
    "%matplotlib inline "
   ]
  },
  {
   "cell_type": "markdown",
   "metadata": {},
   "source": [
    "# Q1\n",
    "<b>Using the pandas read_csv() function, read the GDP dataset into your notebook as a DataFrame called gdp_df. \n",
    "   Take a look at the first 6 rows.\n",
    "\n",
    "   Repeat for the internet use dataset. Call this DataFrame internet_df. \n",
    "   Take a look at the first six rows.\n",
    "</b>\n"
   ]
  },
  {
   "cell_type": "code",
   "execution_count": 3,
   "metadata": {},
   "outputs": [
    {
     "name": "stdout",
     "output_type": "stream",
     "text": [
      "  Country or Area  Year        Value  Value Footnotes\n",
      "0     Afghanistan  2018  1734.723214              NaN\n",
      "1     Afghanistan  2017  1758.465636              NaN\n",
      "2     Afghanistan  2016  1757.023490              NaN\n",
      "3     Afghanistan  2015  1766.593077              NaN\n",
      "4     Afghanistan  2014  1795.735834              NaN\n",
      "5     Afghanistan  2013  1807.762344              NaN\n",
      "  Country or Area  Year     Value  Value Footnotes\n",
      "0     Afghanistan  2014  6.390000              NaN\n",
      "1     Afghanistan  2013  5.900000              NaN\n",
      "2     Afghanistan  2012  5.454545              NaN\n",
      "3     Afghanistan  2011  5.000000              NaN\n",
      "4     Afghanistan  2010  4.000000              NaN\n",
      "5     Afghanistan  2009  3.550000              NaN\n"
     ]
    }
   ],
   "source": [
    "gdp_df = pd.read_csv('/Users/landrybutler/github/gdp-and-internet-usage-landrybutler/data/gdp_percapita.csv', nrows=6729)\n",
    "print(gdp_df.head(6))\n",
    "\n",
    "internet_df = pd.read_csv('/Users/landrybutler/github/gdp-and-internet-usage-landrybutler/data/internet_use.csv', \n",
    "                          nrows=4495)\n",
    "print(internet_df.head(6))\n",
    "# internet_df"
   ]
  },
  {
   "cell_type": "markdown",
   "metadata": {},
   "source": [
    "# Q2\n",
    "<b>Look at the shape of each dataframe - how many rows, how many columns.\n",
    "\n",
    "   Take a look at the data types for the columns in each table.\n",
    "\n",
    "   Take a look at the last 10 rows of each dataset in turn.\n",
    "</b>\n"
   ]
  },
  {
   "cell_type": "code",
   "execution_count": 4,
   "metadata": {},
   "outputs": [
    {
     "name": "stdout",
     "output_type": "stream",
     "text": [
      "(6729, 4)\n",
      "     Country or Area  Year        Value  Value Footnotes\n",
      "6719        Zimbabwe  1999  3054.064189              NaN\n",
      "6720        Zimbabwe  1998  3099.076182              NaN\n",
      "6721        Zimbabwe  1997  3036.422224              NaN\n",
      "6722        Zimbabwe  1996  2985.856605              NaN\n",
      "6723        Zimbabwe  1995  2736.486436              NaN\n",
      "6724        Zimbabwe  1994  2768.309953              NaN\n",
      "6725        Zimbabwe  1993  2572.870395              NaN\n",
      "6726        Zimbabwe  1992  2591.007534              NaN\n",
      "6727        Zimbabwe  1991  2906.272849              NaN\n",
      "6728        Zimbabwe  1990  2819.549467              NaN\n",
      "\n",
      "(4495, 4)\n",
      "     Country or Area  Year     Value  Value Footnotes\n",
      "4485        Zimbabwe  2002  3.994356              NaN\n",
      "4486        Zimbabwe  2001  0.799846              NaN\n",
      "4487        Zimbabwe  2000  0.401434              NaN\n",
      "4488        Zimbabwe  1999  0.161676              NaN\n",
      "4489        Zimbabwe  1998  0.081648              NaN\n",
      "4490        Zimbabwe  1997  0.033080              NaN\n",
      "4491        Zimbabwe  1996  0.016790              NaN\n",
      "4492        Zimbabwe  1995  0.007684              NaN\n",
      "4493        Zimbabwe  1994  0.001739              NaN\n",
      "4494        Zimbabwe  1990  0.000000              NaN\n"
     ]
    }
   ],
   "source": [
    "print(gdp_df.shape)\n",
    "print(gdp_df.tail(10))\n",
    "print()\n",
    "print(internet_df.shape)\n",
    "print(internet_df.tail(10))\n"
   ]
  },
  {
   "cell_type": "markdown",
   "metadata": {},
   "source": [
    "<b>results of print(gdp_df.info())</b><br>\n",
    "<class 'pandas.core.frame.DataFrame'>\n",
    "RangeIndex: 6731 entries, 0 to 6730\n",
    "Data columns (total 4 columns):\n",
    "Country or Area    6731 non-null object\n",
    "Year               6731 non-null object\n",
    "Value              6729 non-null float64\n",
    "Value Footnotes    1 non-null float64\n",
    "dtypes: float64(2), object(2)\n",
    "memory usage: 210.5+ KB\n",
    "None\n",
    "\n",
    "\n",
    "\n",
    "<p><b>results of print(internet_df.info())</b><br>\n",
    "<class 'pandas.core.frame.DataFrame'>\n",
    "RangeIndex: 4495 entries, 0 to 4494\n",
    "Data columns (total 4 columns):\n",
    "Country or Area    4495 non-null object\n",
    "Year               4495 non-null int64\n",
    "Value              4495 non-null float64\n",
    "Value Footnotes    948 non-null float64\n",
    "dtypes: float64(2), int64(1), object(1)\n",
    "memory usage: 140.6+ KB\n",
    "None"
   ]
  },
  {
   "cell_type": "markdown",
   "metadata": {},
   "source": [
    "# Q3\n",
    "<b>Drop the 'value footnotes' data from both datasets. Check that this worked as expected.</b>\n"
   ]
  },
  {
   "cell_type": "code",
   "execution_count": 5,
   "metadata": {},
   "outputs": [
    {
     "name": "stdout",
     "output_type": "stream",
     "text": [
      "  Country or Area  Year        Value  Value Footnotes\n",
      "0     Afghanistan  2018  1734.723214              NaN\n",
      "1     Afghanistan  2017  1758.465636              NaN\n",
      "2     Afghanistan  2016  1757.023490              NaN\n",
      "3     Afghanistan  2015  1766.593077              NaN\n",
      "4     Afghanistan  2014  1795.735834              NaN\n",
      "5     Afghanistan  2013  1807.762344              NaN\n",
      "  Country or Area  Year        Value\n",
      "0     Afghanistan  2018  1734.723214\n",
      "1     Afghanistan  2017  1758.465636\n",
      "2     Afghanistan  2016  1757.023490\n",
      "3     Afghanistan  2015  1766.593077\n",
      "4     Afghanistan  2014  1795.735834\n",
      "5     Afghanistan  2013  1807.762344\n",
      "\n",
      "  Country or Area  Year     Value  Value Footnotes\n",
      "0     Afghanistan  2014  6.390000              NaN\n",
      "1     Afghanistan  2013  5.900000              NaN\n",
      "2     Afghanistan  2012  5.454545              NaN\n",
      "3     Afghanistan  2011  5.000000              NaN\n",
      "4     Afghanistan  2010  4.000000              NaN\n",
      "5     Afghanistan  2009  3.550000              NaN\n",
      "  Country or Area  Year     Value\n",
      "0     Afghanistan  2014  6.390000\n",
      "1     Afghanistan  2013  5.900000\n",
      "2     Afghanistan  2012  5.454545\n",
      "3     Afghanistan  2011  5.000000\n",
      "4     Afghanistan  2010  4.000000\n",
      "5     Afghanistan  2009  3.550000\n"
     ]
    }
   ],
   "source": [
    "print(gdp_df.head(6))\n",
    "gdp_df = gdp_df.drop(columns=['Value Footnotes'], axis=1)\n",
    "print(gdp_df.head(6))\n",
    "print()\n",
    "print(internet_df.head(6))\n",
    "internet_df = internet_df.drop(columns=['Value Footnotes'], axis=1)\n",
    "print(internet_df.head(6))\n",
    "\n"
   ]
  },
  {
   "cell_type": "markdown",
   "metadata": {},
   "source": [
    "# Q4\n",
    "Change the columns for the GDP Per Capita data frame to ‘Country’, ‘Year’, and ‘GDP_Per_Capita’.\n"
   ]
  },
  {
   "cell_type": "code",
   "execution_count": 6,
   "metadata": {},
   "outputs": [
    {
     "name": "stdout",
     "output_type": "stream",
     "text": [
      "       Country  Year  GDP_Per_Capita\n",
      "0  Afghanistan  2018     1734.723214\n",
      "1  Afghanistan  2017     1758.465636\n",
      "2  Afghanistan  2016     1757.023490\n",
      "3  Afghanistan  2015     1766.593077\n",
      "4  Afghanistan  2014     1795.735834\n",
      "5  Afghanistan  2013     1807.762344\n"
     ]
    }
   ],
   "source": [
    "gdp_df.rename(columns={\n",
    "    'Country or Area':'Country',\n",
    "    'Value':'GDP_Per_Capita'\n",
    "    }, inplace = True)\n",
    "print(gdp_df.head(6))\n",
    "\n"
   ]
  },
  {
   "cell_type": "markdown",
   "metadata": {},
   "source": [
    "# Q5\n",
    "Change the columns for the Internet Users data frame to ‘Country’, ‘Year’, and ‘Internet_Users_Pct’.\n"
   ]
  },
  {
   "cell_type": "code",
   "execution_count": 7,
   "metadata": {},
   "outputs": [
    {
     "name": "stdout",
     "output_type": "stream",
     "text": [
      "       Country  Year  Internet_Users_Pct\n",
      "0  Afghanistan  2014            6.390000\n",
      "1  Afghanistan  2013            5.900000\n",
      "2  Afghanistan  2012            5.454545\n",
      "3  Afghanistan  2011            5.000000\n",
      "4  Afghanistan  2010            4.000000\n",
      "5  Afghanistan  2009            3.550000\n"
     ]
    }
   ],
   "source": [
    "internet_df.rename(columns={\n",
    "    'Country or Area':'Country',\n",
    "    'Value':'Internet_Users_Pct'\n",
    "    }, inplace = True)\n",
    "print(internet_df.head(6))\n"
   ]
  },
  {
   "cell_type": "markdown",
   "metadata": {},
   "source": [
    "# Q6\n",
    "Merge the two DataFrames to one. Merge all rows from each of the two DataFrames. Call the new DataFrame gdp_and_internet_use.\n"
   ]
  },
  {
   "cell_type": "code",
   "execution_count": 8,
   "metadata": {},
   "outputs": [
    {
     "data": {
      "text/html": [
       "<div>\n",
       "<style scoped>\n",
       "    .dataframe tbody tr th:only-of-type {\n",
       "        vertical-align: middle;\n",
       "    }\n",
       "\n",
       "    .dataframe tbody tr th {\n",
       "        vertical-align: top;\n",
       "    }\n",
       "\n",
       "    .dataframe thead th {\n",
       "        text-align: right;\n",
       "    }\n",
       "</style>\n",
       "<table border=\"1\" class=\"dataframe\">\n",
       "  <thead>\n",
       "    <tr style=\"text-align: right;\">\n",
       "      <th></th>\n",
       "      <th>Country</th>\n",
       "      <th>Year</th>\n",
       "      <th>GDP_Per_Capita</th>\n",
       "      <th>Internet_Users_Pct</th>\n",
       "    </tr>\n",
       "  </thead>\n",
       "  <tbody>\n",
       "    <tr>\n",
       "      <td>0</td>\n",
       "      <td>Afghanistan</td>\n",
       "      <td>2018</td>\n",
       "      <td>1734.723214</td>\n",
       "      <td>NaN</td>\n",
       "    </tr>\n",
       "    <tr>\n",
       "      <td>1</td>\n",
       "      <td>Afghanistan</td>\n",
       "      <td>2017</td>\n",
       "      <td>1758.465636</td>\n",
       "      <td>NaN</td>\n",
       "    </tr>\n",
       "    <tr>\n",
       "      <td>2</td>\n",
       "      <td>Afghanistan</td>\n",
       "      <td>2016</td>\n",
       "      <td>1757.023490</td>\n",
       "      <td>NaN</td>\n",
       "    </tr>\n",
       "    <tr>\n",
       "      <td>3</td>\n",
       "      <td>Afghanistan</td>\n",
       "      <td>2015</td>\n",
       "      <td>1766.593077</td>\n",
       "      <td>NaN</td>\n",
       "    </tr>\n",
       "    <tr>\n",
       "      <td>4</td>\n",
       "      <td>Afghanistan</td>\n",
       "      <td>2014</td>\n",
       "      <td>1795.735834</td>\n",
       "      <td>6.390000</td>\n",
       "    </tr>\n",
       "    <tr>\n",
       "      <td>...</td>\n",
       "      <td>...</td>\n",
       "      <td>...</td>\n",
       "      <td>...</td>\n",
       "      <td>...</td>\n",
       "    </tr>\n",
       "    <tr>\n",
       "      <td>7700</td>\n",
       "      <td>Virgin Islands (U.S.)</td>\n",
       "      <td>1997</td>\n",
       "      <td>NaN</td>\n",
       "      <td>6.948369</td>\n",
       "    </tr>\n",
       "    <tr>\n",
       "      <td>7701</td>\n",
       "      <td>Virgin Islands (U.S.)</td>\n",
       "      <td>1996</td>\n",
       "      <td>NaN</td>\n",
       "      <td>4.647186</td>\n",
       "    </tr>\n",
       "    <tr>\n",
       "      <td>7702</td>\n",
       "      <td>Virgin Islands (U.S.)</td>\n",
       "      <td>1995</td>\n",
       "      <td>NaN</td>\n",
       "      <td>2.801958</td>\n",
       "    </tr>\n",
       "    <tr>\n",
       "      <td>7703</td>\n",
       "      <td>Virgin Islands (U.S.)</td>\n",
       "      <td>1994</td>\n",
       "      <td>NaN</td>\n",
       "      <td>0.940645</td>\n",
       "    </tr>\n",
       "    <tr>\n",
       "      <td>7704</td>\n",
       "      <td>Virgin Islands (U.S.)</td>\n",
       "      <td>1990</td>\n",
       "      <td>NaN</td>\n",
       "      <td>0.000000</td>\n",
       "    </tr>\n",
       "  </tbody>\n",
       "</table>\n",
       "<p>7705 rows × 4 columns</p>\n",
       "</div>"
      ],
      "text/plain": [
       "                    Country  Year  GDP_Per_Capita  Internet_Users_Pct\n",
       "0               Afghanistan  2018     1734.723214                 NaN\n",
       "1               Afghanistan  2017     1758.465636                 NaN\n",
       "2               Afghanistan  2016     1757.023490                 NaN\n",
       "3               Afghanistan  2015     1766.593077                 NaN\n",
       "4               Afghanistan  2014     1795.735834            6.390000\n",
       "...                     ...   ...             ...                 ...\n",
       "7700  Virgin Islands (U.S.)  1997             NaN            6.948369\n",
       "7701  Virgin Islands (U.S.)  1996             NaN            4.647186\n",
       "7702  Virgin Islands (U.S.)  1995             NaN            2.801958\n",
       "7703  Virgin Islands (U.S.)  1994             NaN            0.940645\n",
       "7704  Virgin Islands (U.S.)  1990             NaN            0.000000\n",
       "\n",
       "[7705 rows x 4 columns]"
      ]
     },
     "execution_count": 8,
     "metadata": {},
     "output_type": "execute_result"
    }
   ],
   "source": [
    "# gdp_and_internet_use = pd.merge(gdp_df, internet_df, on=['Country','Year'], how='inner')\n",
    "gdp_and_internet_use = pd.merge(gdp_df, internet_df, on=['Country','Year'], how='outer')\n",
    "gdp_and_internet_use\n",
    "\n",
    "\n"
   ]
  },
  {
   "cell_type": "markdown",
   "metadata": {},
   "source": [
    "# Q7\n",
    "Look at the first five rows of your new data frame to confirm the columns are how you expect.\n",
    "\n",
    "# Q8\n",
    "Look at the last five rows to make sure the data is clean and as expected.\n"
   ]
  },
  {
   "cell_type": "code",
   "execution_count": 9,
   "metadata": {},
   "outputs": [
    {
     "name": "stdout",
     "output_type": "stream",
     "text": [
      "       Country  Year  GDP_Per_Capita  Internet_Users_Pct\n",
      "0  Afghanistan  2018     1734.723214                 NaN\n",
      "1  Afghanistan  2017     1758.465636                 NaN\n",
      "2  Afghanistan  2016     1757.023490                 NaN\n",
      "3  Afghanistan  2015     1766.593077                 NaN\n",
      "4  Afghanistan  2014     1795.735834                6.39\n",
      "                    Country  Year  GDP_Per_Capita  Internet_Users_Pct\n",
      "7700  Virgin Islands (U.S.)  1997             NaN            6.948369\n",
      "7701  Virgin Islands (U.S.)  1996             NaN            4.647186\n",
      "7702  Virgin Islands (U.S.)  1995             NaN            2.801958\n",
      "7703  Virgin Islands (U.S.)  1994             NaN            0.940645\n",
      "7704  Virgin Islands (U.S.)  1990             NaN            0.000000\n"
     ]
    }
   ],
   "source": [
    "print(gdp_and_internet_use.head())\n",
    "\n",
    "print(gdp_and_internet_use.tail())"
   ]
  },
  {
   "cell_type": "markdown",
   "metadata": {},
   "source": [
    "# Q9\n",
    "Look at the shape of the new dataset. Were any rows dropped?\n"
   ]
  },
  {
   "cell_type": "code",
   "execution_count": 10,
   "metadata": {},
   "outputs": [
    {
     "name": "stdout",
     "output_type": "stream",
     "text": [
      "(7705, 4)\n"
     ]
    },
    {
     "data": {
      "text/plain": [
       "(7705, 4)"
      ]
     },
     "execution_count": 10,
     "metadata": {},
     "output_type": "execute_result"
    }
   ],
   "source": [
    "print(gdp_and_internet_use.shape)\n",
    "gdp_and_internet_use.shape"
   ]
  },
  {
   "cell_type": "markdown",
   "metadata": {},
   "source": [
    "# Q10\n",
    "Subset the combined data frame to keep only the data for 2004, 2009, and 2014. Check that this happened correctly.\n"
   ]
  },
  {
   "cell_type": "code",
   "execution_count": 11,
   "metadata": {},
   "outputs": [
    {
     "data": {
      "text/html": [
       "<div>\n",
       "<style scoped>\n",
       "    .dataframe tbody tr th:only-of-type {\n",
       "        vertical-align: middle;\n",
       "    }\n",
       "\n",
       "    .dataframe tbody tr th {\n",
       "        vertical-align: top;\n",
       "    }\n",
       "\n",
       "    .dataframe thead th {\n",
       "        text-align: right;\n",
       "    }\n",
       "</style>\n",
       "<table border=\"1\" class=\"dataframe\">\n",
       "  <thead>\n",
       "    <tr style=\"text-align: right;\">\n",
       "      <th></th>\n",
       "      <th>Country</th>\n",
       "      <th>Year</th>\n",
       "      <th>GDP_Per_Capita</th>\n",
       "      <th>Internet_Users_Pct</th>\n",
       "    </tr>\n",
       "  </thead>\n",
       "  <tbody>\n",
       "    <tr>\n",
       "      <td>4</td>\n",
       "      <td>Afghanistan</td>\n",
       "      <td>2014</td>\n",
       "      <td>1795.735834</td>\n",
       "      <td>6.390000</td>\n",
       "    </tr>\n",
       "    <tr>\n",
       "      <td>9</td>\n",
       "      <td>Afghanistan</td>\n",
       "      <td>2009</td>\n",
       "      <td>1502.354073</td>\n",
       "      <td>3.550000</td>\n",
       "    </tr>\n",
       "    <tr>\n",
       "      <td>14</td>\n",
       "      <td>Afghanistan</td>\n",
       "      <td>2004</td>\n",
       "      <td>1025.208245</td>\n",
       "      <td>0.105809</td>\n",
       "    </tr>\n",
       "    <tr>\n",
       "      <td>21</td>\n",
       "      <td>Albania</td>\n",
       "      <td>2014</td>\n",
       "      <td>10700.993216</td>\n",
       "      <td>60.100000</td>\n",
       "    </tr>\n",
       "    <tr>\n",
       "      <td>26</td>\n",
       "      <td>Albania</td>\n",
       "      <td>2009</td>\n",
       "      <td>9525.377979</td>\n",
       "      <td>41.200000</td>\n",
       "    </tr>\n",
       "    <tr>\n",
       "      <td>...</td>\n",
       "      <td>...</td>\n",
       "      <td>...</td>\n",
       "      <td>...</td>\n",
       "      <td>...</td>\n",
       "    </tr>\n",
       "    <tr>\n",
       "      <td>7668</td>\n",
       "      <td>Viet Nam</td>\n",
       "      <td>2009</td>\n",
       "      <td>NaN</td>\n",
       "      <td>26.550000</td>\n",
       "    </tr>\n",
       "    <tr>\n",
       "      <td>7673</td>\n",
       "      <td>Viet Nam</td>\n",
       "      <td>2004</td>\n",
       "      <td>NaN</td>\n",
       "      <td>7.642409</td>\n",
       "    </tr>\n",
       "    <tr>\n",
       "      <td>7683</td>\n",
       "      <td>Virgin Islands (U.S.)</td>\n",
       "      <td>2014</td>\n",
       "      <td>NaN</td>\n",
       "      <td>50.070000</td>\n",
       "    </tr>\n",
       "    <tr>\n",
       "      <td>7688</td>\n",
       "      <td>Virgin Islands (U.S.)</td>\n",
       "      <td>2009</td>\n",
       "      <td>NaN</td>\n",
       "      <td>27.396510</td>\n",
       "    </tr>\n",
       "    <tr>\n",
       "      <td>7693</td>\n",
       "      <td>Virgin Islands (U.S.)</td>\n",
       "      <td>2004</td>\n",
       "      <td>NaN</td>\n",
       "      <td>27.377009</td>\n",
       "    </tr>\n",
       "  </tbody>\n",
       "</table>\n",
       "<p>835 rows × 4 columns</p>\n",
       "</div>"
      ],
      "text/plain": [
       "                    Country  Year  GDP_Per_Capita  Internet_Users_Pct\n",
       "4               Afghanistan  2014     1795.735834            6.390000\n",
       "9               Afghanistan  2009     1502.354073            3.550000\n",
       "14              Afghanistan  2004     1025.208245            0.105809\n",
       "21                  Albania  2014    10700.993216           60.100000\n",
       "26                  Albania  2009     9525.377979           41.200000\n",
       "...                     ...   ...             ...                 ...\n",
       "7668               Viet Nam  2009             NaN           26.550000\n",
       "7673               Viet Nam  2004             NaN            7.642409\n",
       "7683  Virgin Islands (U.S.)  2014             NaN           50.070000\n",
       "7688  Virgin Islands (U.S.)  2009             NaN           27.396510\n",
       "7693  Virgin Islands (U.S.)  2004             NaN           27.377009\n",
       "\n",
       "[835 rows x 4 columns]"
      ]
     },
     "execution_count": 11,
     "metadata": {},
     "output_type": "execute_result"
    }
   ],
   "source": [
    "'''\n",
    "Create a boolean variable by taking the column of interest and checking if its value equals to the specific value \n",
    "that we want to select/keep.\n",
    "\n",
    "NOTE: This works, but you can only subset for one year at a time. \n",
    "is_2004 =  gdp_and_internet_use['Year']==2004\n",
    "is_2009 =  gdp_and_internet_use['Year']==2009\n",
    "is_2014 =  gdp_and_internet_use['Year']==2014\n",
    "\n",
    "# confirm that booleans above can be used to subset list ... all should work in next line\n",
    "gdp_and_internet_use_test = gdp_and_internet_use[is_2004]\n",
    "# gdp_and_internet_use_test\n",
    "\n",
    "'''\n",
    "\n",
    "# subset by list works better\n",
    "subset_list = [2004,2009,2014]\n",
    "gdp_and_internet_use_subset = gdp_and_internet_use[gdp_and_internet_use.Year.isin(subset_list)]\n",
    "\n",
    "# SUCCESS! The following line prints the subset containing years, 2004, 2009 and 2014\n",
    "gdp_and_internet_use_subset"
   ]
  },
  {
   "cell_type": "code",
   "execution_count": 12,
   "metadata": {},
   "outputs": [
    {
     "name": "stdout",
     "output_type": "stream",
     "text": [
      "Empty DataFrame\n",
      "Columns: [Country, Year, GDP_Per_Capita, Internet_Users_Pct]\n",
      "Index: []\n"
     ]
    }
   ],
   "source": [
    "# Double check the above to be sure it's right. If right, the output will be an empty set.\n",
    "print(gdp_and_internet_use_subset[~gdp_and_internet_use_subset.Year.isin(subset_list)])\n",
    "\n",
    "#SUCCESS output is 'Empty DataFrame ...'"
   ]
  },
  {
   "cell_type": "markdown",
   "metadata": {},
   "source": [
    "# Q11\n",
    "Create three new data frames, one for 2004, one for 2009, and one for 2014. \n",
    "Give them meaningful names that aren't too long.\n"
   ]
  },
  {
   "cell_type": "code",
   "execution_count": 13,
   "metadata": {},
   "outputs": [
    {
     "name": "stdout",
     "output_type": "stream",
     "text": [
      "2004\n",
      "                    Country  Year  GDP_Per_Capita  Internet_Users_Pct\n",
      "14              Afghanistan  2004     1025.208245            0.105809\n",
      "31                  Albania  2004     7001.054082            2.420388\n",
      "60                  Algeria  2004    11845.170512            4.634475\n",
      "89                   Angola  2004     4604.657044            0.464815\n",
      "118     Antigua and Barbuda  2004    21161.123532           24.266544\n",
      "...                     ...   ...             ...                 ...\n",
      "7551              Swaziland  2004             NaN            3.228685\n",
      "7572                  Syria  2004             NaN            4.321594\n",
      "7615     T.F.Y.R. Macedonia  2004             NaN           24.440000\n",
      "7673               Viet Nam  2004             NaN            7.642409\n",
      "7693  Virgin Islands (U.S.)  2004             NaN           27.377009\n",
      "\n",
      "[278 rows x 4 columns]\n",
      "\n",
      "2009\n",
      "                    Country  Year  GDP_Per_Capita  Internet_Users_Pct\n",
      "9               Afghanistan  2009     1502.354073             3.55000\n",
      "26                  Albania  2009     9525.377979            41.20000\n",
      "55                  Algeria  2009    12697.690780            11.23000\n",
      "84                   Angola  2009     6292.534856             6.00000\n",
      "113     Antigua and Barbuda  2009    22568.626530            42.00000\n",
      "...                     ...   ...             ...                 ...\n",
      "7546              Swaziland  2009             NaN             8.94000\n",
      "7567                  Syria  2009             NaN            17.30000\n",
      "7610     T.F.Y.R. Macedonia  2009             NaN            51.77000\n",
      "7668               Viet Nam  2009             NaN            26.55000\n",
      "7688  Virgin Islands (U.S.)  2009             NaN            27.39651\n",
      "\n",
      "[279 rows x 4 columns]\n",
      "\n",
      "2014\n",
      "                    Country  Year  GDP_Per_Capita  Internet_Users_Pct\n",
      "4               Afghanistan  2014     1795.735834                6.39\n",
      "21                  Albania  2014    10700.993216               60.10\n",
      "50                  Algeria  2014    13557.769757               18.09\n",
      "79                   Angola  2014     6813.052106               21.26\n",
      "108     Antigua and Barbuda  2014    20440.540555               64.00\n",
      "...                     ...   ...             ...                 ...\n",
      "7541              Swaziland  2014             NaN               27.10\n",
      "7562                  Syria  2014             NaN               28.09\n",
      "7605     T.F.Y.R. Macedonia  2014             NaN               68.06\n",
      "7663               Viet Nam  2014             NaN               48.31\n",
      "7683  Virgin Islands (U.S.)  2014             NaN               50.07\n",
      "\n",
      "[278 rows x 4 columns]\n",
      "\n"
     ]
    }
   ],
   "source": [
    "'''\n",
    "This is the place to use the earlier subset by boolean method.\n",
    "'''\n",
    "is_2004 =  gdp_and_internet_use['Year']==2004\n",
    "is_2009 =  gdp_and_internet_use['Year']==2009\n",
    "is_2014 =  gdp_and_internet_use['Year']==2014\n",
    "\n",
    "# create individual subsets by year using above booleans\n",
    "gdp_and_internet_use_2004 = gdp_and_internet_use[is_2004]\n",
    "gdp_and_internet_use_2009 = gdp_and_internet_use[is_2009]\n",
    "gdp_and_internet_use_2014 = gdp_and_internet_use[is_2014]\n",
    "\n",
    "# print subsets\n",
    "print(2004)\n",
    "print(gdp_and_internet_use_2004)\n",
    "print()\n",
    "print(2009)\n",
    "print(gdp_and_internet_use_2009)\n",
    "print()\n",
    "print(2014)\n",
    "print(gdp_and_internet_use_2014)\n",
    "print()"
   ]
  },
  {
   "cell_type": "code",
   "execution_count": 14,
   "metadata": {},
   "outputs": [
    {
     "name": "stdout",
     "output_type": "stream",
     "text": [
      "Empty DataFrame\n",
      "Columns: [Country, Year, GDP_Per_Capita, Internet_Users_Pct]\n",
      "Index: []\n",
      "Empty DataFrame\n",
      "Columns: [Country, Year, GDP_Per_Capita, Internet_Users_Pct]\n",
      "Index: []\n",
      "Empty DataFrame\n",
      "Columns: [Country, Year, GDP_Per_Capita, Internet_Users_Pct]\n",
      "Index: []\n"
     ]
    }
   ],
   "source": [
    "# Double check the above to be sure they're right. If right, the outputs will be empty sets.\n",
    "print(gdp_and_internet_use_2004[gdp_and_internet_use_2004.Year!=2004])\n",
    "print(gdp_and_internet_use_2009[gdp_and_internet_use_2009.Year!=2009])\n",
    "print(gdp_and_internet_use_2014[gdp_and_internet_use_2014.Year!=2014])\n",
    "# SUCCESS all are empty"
   ]
  },
  {
   "cell_type": "markdown",
   "metadata": {},
   "source": [
    "# Q12\n",
    "Which country had the highest percentage of internet users in 2014? What was the percentage? \n",
    "Repeat for 2004 and 2009. (Try typing the first 3 letters of your DataFrame name and hitting the tab \n",
    "for auto-complete options).\n"
   ]
  },
  {
   "cell_type": "code",
   "execution_count": 15,
   "metadata": {},
   "outputs": [
    {
     "data": {
      "text/html": [
       "<div>\n",
       "<style scoped>\n",
       "    .dataframe tbody tr th:only-of-type {\n",
       "        vertical-align: middle;\n",
       "    }\n",
       "\n",
       "    .dataframe tbody tr th {\n",
       "        vertical-align: top;\n",
       "    }\n",
       "\n",
       "    .dataframe thead th {\n",
       "        text-align: right;\n",
       "    }\n",
       "</style>\n",
       "<table border=\"1\" class=\"dataframe\">\n",
       "  <thead>\n",
       "    <tr style=\"text-align: right;\">\n",
       "      <th></th>\n",
       "      <th>Country</th>\n",
       "      <th>Year</th>\n",
       "      <th>GDP_Per_Capita</th>\n",
       "      <th>Internet_Users_Pct</th>\n",
       "    </tr>\n",
       "  </thead>\n",
       "  <tbody>\n",
       "    <tr>\n",
       "      <td>2581</td>\n",
       "      <td>Iceland</td>\n",
       "      <td>2014</td>\n",
       "      <td>42774.888849</td>\n",
       "      <td>98.16</td>\n",
       "    </tr>\n",
       "  </tbody>\n",
       "</table>\n",
       "</div>"
      ],
      "text/plain": [
       "      Country  Year  GDP_Per_Capita  Internet_Users_Pct\n",
       "2581  Iceland  2014    42774.888849               98.16"
      ]
     },
     "execution_count": 15,
     "metadata": {},
     "output_type": "execute_result"
    }
   ],
   "source": [
    "gdp_and_internet_use_2014.loc[gdp_and_internet_use_2014['Internet_Users_Pct']==gdp_and_internet_use_2014['Internet_Users_Pct'].max()]\n",
    "\n",
    "# Iceland is winner with 98.16%"
   ]
  },
  {
   "cell_type": "code",
   "execution_count": 16,
   "metadata": {},
   "outputs": [
    {
     "data": {
      "text/html": [
       "<div>\n",
       "<style scoped>\n",
       "    .dataframe tbody tr th:only-of-type {\n",
       "        vertical-align: middle;\n",
       "    }\n",
       "\n",
       "    .dataframe tbody tr th {\n",
       "        vertical-align: top;\n",
       "    }\n",
       "\n",
       "    .dataframe thead th {\n",
       "        text-align: right;\n",
       "    }\n",
       "</style>\n",
       "<table border=\"1\" class=\"dataframe\">\n",
       "  <thead>\n",
       "    <tr style=\"text-align: right;\">\n",
       "      <th></th>\n",
       "      <th>Country</th>\n",
       "      <th>Year</th>\n",
       "      <th>GDP_Per_Capita</th>\n",
       "      <th>Internet_Users_Pct</th>\n",
       "    </tr>\n",
       "  </thead>\n",
       "  <tbody>\n",
       "    <tr>\n",
       "      <td>2586</td>\n",
       "      <td>Iceland</td>\n",
       "      <td>2009</td>\n",
       "      <td>41505.084834</td>\n",
       "      <td>93.0</td>\n",
       "    </tr>\n",
       "  </tbody>\n",
       "</table>\n",
       "</div>"
      ],
      "text/plain": [
       "      Country  Year  GDP_Per_Capita  Internet_Users_Pct\n",
       "2586  Iceland  2009    41505.084834                93.0"
      ]
     },
     "execution_count": 16,
     "metadata": {},
     "output_type": "execute_result"
    }
   ],
   "source": [
    "gdp_and_internet_use_2009.loc[gdp_and_internet_use_2009['Internet_Users_Pct']==gdp_and_internet_use_2009['Internet_Users_Pct'].max()]\n",
    "\n",
    "# Iceland is winner with 93%"
   ]
  },
  {
   "cell_type": "code",
   "execution_count": 17,
   "metadata": {},
   "outputs": [
    {
     "data": {
      "text/html": [
       "<div>\n",
       "<style scoped>\n",
       "    .dataframe tbody tr th:only-of-type {\n",
       "        vertical-align: middle;\n",
       "    }\n",
       "\n",
       "    .dataframe tbody tr th {\n",
       "        vertical-align: top;\n",
       "    }\n",
       "\n",
       "    .dataframe thead th {\n",
       "        text-align: right;\n",
       "    }\n",
       "</style>\n",
       "<table border=\"1\" class=\"dataframe\">\n",
       "  <thead>\n",
       "    <tr style=\"text-align: right;\">\n",
       "      <th></th>\n",
       "      <th>Country</th>\n",
       "      <th>Year</th>\n",
       "      <th>GDP_Per_Capita</th>\n",
       "      <th>Internet_Users_Pct</th>\n",
       "    </tr>\n",
       "  </thead>\n",
       "  <tbody>\n",
       "    <tr>\n",
       "      <td>5852</td>\n",
       "      <td>Sweden</td>\n",
       "      <td>2004</td>\n",
       "      <td>40177.850408</td>\n",
       "      <td>83.89</td>\n",
       "    </tr>\n",
       "  </tbody>\n",
       "</table>\n",
       "</div>"
      ],
      "text/plain": [
       "     Country  Year  GDP_Per_Capita  Internet_Users_Pct\n",
       "5852  Sweden  2004    40177.850408               83.89"
      ]
     },
     "execution_count": 17,
     "metadata": {},
     "output_type": "execute_result"
    }
   ],
   "source": [
    "gdp_and_internet_use_2004.loc[gdp_and_internet_use_2004['Internet_Users_Pct']==gdp_and_internet_use_2004['Internet_Users_Pct'].max()]\n",
    "\n",
    "# Sweden is winner with 83.89%\n"
   ]
  },
  {
   "cell_type": "markdown",
   "metadata": {},
   "source": [
    "# Q13\n",
    "Which country had the lowest percentage of internet users in 2014? What was the percentage? Repeat for 2004 and 2009.\n"
   ]
  },
  {
   "cell_type": "code",
   "execution_count": 18,
   "metadata": {},
   "outputs": [
    {
     "data": {
      "text/html": [
       "<div>\n",
       "<style scoped>\n",
       "    .dataframe tbody tr th:only-of-type {\n",
       "        vertical-align: middle;\n",
       "    }\n",
       "\n",
       "    .dataframe tbody tr th {\n",
       "        vertical-align: top;\n",
       "    }\n",
       "\n",
       "    .dataframe thead th {\n",
       "        text-align: right;\n",
       "    }\n",
       "</style>\n",
       "<table border=\"1\" class=\"dataframe\">\n",
       "  <thead>\n",
       "    <tr style=\"text-align: right;\">\n",
       "      <th></th>\n",
       "      <th>Country</th>\n",
       "      <th>Year</th>\n",
       "      <th>GDP_Per_Capita</th>\n",
       "      <th>Internet_Users_Pct</th>\n",
       "    </tr>\n",
       "  </thead>\n",
       "  <tbody>\n",
       "    <tr>\n",
       "      <td>6940</td>\n",
       "      <td>Dem. People's Rep. of Korea</td>\n",
       "      <td>2014</td>\n",
       "      <td>NaN</td>\n",
       "      <td>0.0</td>\n",
       "    </tr>\n",
       "  </tbody>\n",
       "</table>\n",
       "</div>"
      ],
      "text/plain": [
       "                          Country  Year  GDP_Per_Capita  Internet_Users_Pct\n",
       "6940  Dem. People's Rep. of Korea  2014             NaN                 0.0"
      ]
     },
     "execution_count": 18,
     "metadata": {},
     "output_type": "execute_result"
    }
   ],
   "source": [
    "gdp_and_internet_use_2014.loc[gdp_and_internet_use_2014['Internet_Users_Pct']==gdp_and_internet_use_2014['Internet_Users_Pct'].min()]\n",
    "\n",
    "# N. Korea has the lowest use at 0.0%"
   ]
  },
  {
   "cell_type": "code",
   "execution_count": 19,
   "metadata": {},
   "outputs": [
    {
     "data": {
      "text/html": [
       "<div>\n",
       "<style scoped>\n",
       "    .dataframe tbody tr th:only-of-type {\n",
       "        vertical-align: middle;\n",
       "    }\n",
       "\n",
       "    .dataframe tbody tr th {\n",
       "        vertical-align: top;\n",
       "    }\n",
       "\n",
       "    .dataframe thead th {\n",
       "        text-align: right;\n",
       "    }\n",
       "</style>\n",
       "<table border=\"1\" class=\"dataframe\">\n",
       "  <thead>\n",
       "    <tr style=\"text-align: right;\">\n",
       "      <th></th>\n",
       "      <th>Country</th>\n",
       "      <th>Year</th>\n",
       "      <th>GDP_Per_Capita</th>\n",
       "      <th>Internet_Users_Pct</th>\n",
       "    </tr>\n",
       "  </thead>\n",
       "  <tbody>\n",
       "    <tr>\n",
       "      <td>6944</td>\n",
       "      <td>Dem. People's Rep. of Korea</td>\n",
       "      <td>2009</td>\n",
       "      <td>NaN</td>\n",
       "      <td>0.0</td>\n",
       "    </tr>\n",
       "  </tbody>\n",
       "</table>\n",
       "</div>"
      ],
      "text/plain": [
       "                          Country  Year  GDP_Per_Capita  Internet_Users_Pct\n",
       "6944  Dem. People's Rep. of Korea  2009             NaN                 0.0"
      ]
     },
     "execution_count": 19,
     "metadata": {},
     "output_type": "execute_result"
    }
   ],
   "source": [
    "gdp_and_internet_use_2009.loc[gdp_and_internet_use_2009['Internet_Users_Pct']==gdp_and_internet_use_2009['Internet_Users_Pct'].min()]\n",
    "\n",
    "# N. Korea has the lowest use at 0.0%"
   ]
  },
  {
   "cell_type": "code",
   "execution_count": 20,
   "metadata": {},
   "outputs": [
    {
     "data": {
      "text/html": [
       "<div>\n",
       "<style scoped>\n",
       "    .dataframe tbody tr th:only-of-type {\n",
       "        vertical-align: middle;\n",
       "    }\n",
       "\n",
       "    .dataframe tbody tr th {\n",
       "        vertical-align: top;\n",
       "    }\n",
       "\n",
       "    .dataframe thead th {\n",
       "        text-align: right;\n",
       "    }\n",
       "</style>\n",
       "<table border=\"1\" class=\"dataframe\">\n",
       "  <thead>\n",
       "    <tr style=\"text-align: right;\">\n",
       "      <th></th>\n",
       "      <th>Country</th>\n",
       "      <th>Year</th>\n",
       "      <th>GDP_Per_Capita</th>\n",
       "      <th>Internet_Users_Pct</th>\n",
       "    </tr>\n",
       "  </thead>\n",
       "  <tbody>\n",
       "    <tr>\n",
       "      <td>6949</td>\n",
       "      <td>Dem. People's Rep. of Korea</td>\n",
       "      <td>2004</td>\n",
       "      <td>NaN</td>\n",
       "      <td>0.0</td>\n",
       "    </tr>\n",
       "  </tbody>\n",
       "</table>\n",
       "</div>"
      ],
      "text/plain": [
       "                          Country  Year  GDP_Per_Capita  Internet_Users_Pct\n",
       "6949  Dem. People's Rep. of Korea  2004             NaN                 0.0"
      ]
     },
     "execution_count": 20,
     "metadata": {},
     "output_type": "execute_result"
    }
   ],
   "source": [
    "gdp_and_internet_use_2004.loc[gdp_and_internet_use_2004['Internet_Users_Pct']==gdp_and_internet_use_2004['Internet_Users_Pct'].min()]\n",
    "\n",
    "# N. Korea has the lowest use at 0.0%"
   ]
  },
  {
   "cell_type": "markdown",
   "metadata": {},
   "source": [
    "# Q14\n",
    "Which country had the highest gdp per capita in 2014? What was the gdp per capita?\n"
   ]
  },
  {
   "cell_type": "code",
   "execution_count": 21,
   "metadata": {},
   "outputs": [
    {
     "data": {
      "text/html": [
       "<div>\n",
       "<style scoped>\n",
       "    .dataframe tbody tr th:only-of-type {\n",
       "        vertical-align: middle;\n",
       "    }\n",
       "\n",
       "    .dataframe tbody tr th {\n",
       "        vertical-align: top;\n",
       "    }\n",
       "\n",
       "    .dataframe thead th {\n",
       "        text-align: right;\n",
       "    }\n",
       "</style>\n",
       "<table border=\"1\" class=\"dataframe\">\n",
       "  <thead>\n",
       "    <tr style=\"text-align: right;\">\n",
       "      <th></th>\n",
       "      <th>Country</th>\n",
       "      <th>Year</th>\n",
       "      <th>GDP_Per_Capita</th>\n",
       "      <th>Internet_Users_Pct</th>\n",
       "    </tr>\n",
       "  </thead>\n",
       "  <tbody>\n",
       "    <tr>\n",
       "      <td>3639</td>\n",
       "      <td>Macao SAR, China</td>\n",
       "      <td>2014</td>\n",
       "      <td>130439.106674</td>\n",
       "      <td>NaN</td>\n",
       "    </tr>\n",
       "  </tbody>\n",
       "</table>\n",
       "</div>"
      ],
      "text/plain": [
       "               Country  Year  GDP_Per_Capita  Internet_Users_Pct\n",
       "3639  Macao SAR, China  2014   130439.106674                 NaN"
      ]
     },
     "execution_count": 21,
     "metadata": {},
     "output_type": "execute_result"
    }
   ],
   "source": [
    "gdp_and_internet_use_2014.loc[gdp_and_internet_use_2014['GDP_Per_Capita']==gdp_and_internet_use_2014['GDP_Per_Capita'].max()]\n",
    "\n",
    "# Macao SAR, China with GDP_Per_Capita of 130,439"
   ]
  },
  {
   "cell_type": "markdown",
   "metadata": {},
   "source": [
    "# Q15\n",
    "Which country had the highest gdp per capita in 2009? What was the gdp per capita?\n"
   ]
  },
  {
   "cell_type": "code",
   "execution_count": 22,
   "metadata": {},
   "outputs": [
    {
     "data": {
      "text/html": [
       "<div>\n",
       "<style scoped>\n",
       "    .dataframe tbody tr th:only-of-type {\n",
       "        vertical-align: middle;\n",
       "    }\n",
       "\n",
       "    .dataframe tbody tr th {\n",
       "        vertical-align: top;\n",
       "    }\n",
       "\n",
       "    .dataframe thead th {\n",
       "        text-align: right;\n",
       "    }\n",
       "</style>\n",
       "<table border=\"1\" class=\"dataframe\">\n",
       "  <thead>\n",
       "    <tr style=\"text-align: right;\">\n",
       "      <th></th>\n",
       "      <th>Country</th>\n",
       "      <th>Year</th>\n",
       "      <th>GDP_Per_Capita</th>\n",
       "      <th>Internet_Users_Pct</th>\n",
       "    </tr>\n",
       "  </thead>\n",
       "  <tbody>\n",
       "    <tr>\n",
       "      <td>5008</td>\n",
       "      <td>Qatar</td>\n",
       "      <td>2009</td>\n",
       "      <td>112525.718267</td>\n",
       "      <td>53.1</td>\n",
       "    </tr>\n",
       "  </tbody>\n",
       "</table>\n",
       "</div>"
      ],
      "text/plain": [
       "     Country  Year  GDP_Per_Capita  Internet_Users_Pct\n",
       "5008   Qatar  2009   112525.718267                53.1"
      ]
     },
     "execution_count": 22,
     "metadata": {},
     "output_type": "execute_result"
    }
   ],
   "source": [
    "gdp_and_internet_use_2009.loc[gdp_and_internet_use_2009['GDP_Per_Capita']==gdp_and_internet_use_2009['GDP_Per_Capita'].max()]\n",
    "\n",
    "# Qatar with GDP_Per_Capita of 112,525"
   ]
  },
  {
   "cell_type": "markdown",
   "metadata": {},
   "source": [
    "# Q16\n",
    "Which country had the highest gdp per capita in 2004? What was the gdp per capita?\n"
   ]
  },
  {
   "cell_type": "code",
   "execution_count": 23,
   "metadata": {},
   "outputs": [
    {
     "data": {
      "text/html": [
       "<div>\n",
       "<style scoped>\n",
       "    .dataframe tbody tr th:only-of-type {\n",
       "        vertical-align: middle;\n",
       "    }\n",
       "\n",
       "    .dataframe tbody tr th {\n",
       "        vertical-align: top;\n",
       "    }\n",
       "\n",
       "    .dataframe thead th {\n",
       "        text-align: right;\n",
       "    }\n",
       "</style>\n",
       "<table border=\"1\" class=\"dataframe\">\n",
       "  <thead>\n",
       "    <tr style=\"text-align: right;\">\n",
       "      <th></th>\n",
       "      <th>Country</th>\n",
       "      <th>Year</th>\n",
       "      <th>GDP_Per_Capita</th>\n",
       "      <th>Internet_Users_Pct</th>\n",
       "    </tr>\n",
       "  </thead>\n",
       "  <tbody>\n",
       "    <tr>\n",
       "      <td>5013</td>\n",
       "      <td>Qatar</td>\n",
       "      <td>2004</td>\n",
       "      <td>117271.427067</td>\n",
       "      <td>20.701648</td>\n",
       "    </tr>\n",
       "  </tbody>\n",
       "</table>\n",
       "</div>"
      ],
      "text/plain": [
       "     Country  Year  GDP_Per_Capita  Internet_Users_Pct\n",
       "5013   Qatar  2004   117271.427067           20.701648"
      ]
     },
     "execution_count": 23,
     "metadata": {},
     "output_type": "execute_result"
    }
   ],
   "source": [
    "gdp_and_internet_use_2004.loc[gdp_and_internet_use_2004['GDP_Per_Capita']==gdp_and_internet_use_2004['GDP_Per_Capita'].max()]\n",
    "\n",
    "# Qatar with GDP_Per_Capita of 117,271"
   ]
  },
  {
   "cell_type": "markdown",
   "metadata": {},
   "source": [
    "# Q17\n",
    "Which country had the lowest gdp per capita in 2014? What was the gdp per capita?\n"
   ]
  },
  {
   "cell_type": "code",
   "execution_count": 24,
   "metadata": {},
   "outputs": [
    {
     "data": {
      "text/html": [
       "<div>\n",
       "<style scoped>\n",
       "    .dataframe tbody tr th:only-of-type {\n",
       "        vertical-align: middle;\n",
       "    }\n",
       "\n",
       "    .dataframe tbody tr th {\n",
       "        vertical-align: top;\n",
       "    }\n",
       "\n",
       "    .dataframe thead th {\n",
       "        text-align: right;\n",
       "    }\n",
       "</style>\n",
       "<table border=\"1\" class=\"dataframe\">\n",
       "  <thead>\n",
       "    <tr style=\"text-align: right;\">\n",
       "      <th></th>\n",
       "      <th>Country</th>\n",
       "      <th>Year</th>\n",
       "      <th>GDP_Per_Capita</th>\n",
       "      <th>Internet_Users_Pct</th>\n",
       "    </tr>\n",
       "  </thead>\n",
       "  <tbody>\n",
       "    <tr>\n",
       "      <td>1014</td>\n",
       "      <td>Central African Republic</td>\n",
       "      <td>2014</td>\n",
       "      <td>672.681648</td>\n",
       "      <td>NaN</td>\n",
       "    </tr>\n",
       "  </tbody>\n",
       "</table>\n",
       "</div>"
      ],
      "text/plain": [
       "                       Country  Year  GDP_Per_Capita  Internet_Users_Pct\n",
       "1014  Central African Republic  2014      672.681648                 NaN"
      ]
     },
     "execution_count": 24,
     "metadata": {},
     "output_type": "execute_result"
    }
   ],
   "source": [
    "gdp_and_internet_use_2014.loc[gdp_and_internet_use_2014['GDP_Per_Capita']==gdp_and_internet_use_2014['GDP_Per_Capita'].min()]\n",
    "\n",
    "# Central African Republic with GDP_Per_Capita of 672.681"
   ]
  },
  {
   "cell_type": "markdown",
   "metadata": {},
   "source": [
    "# Q18\n",
    "Create some scatterplots:<br>\n",
    "a. 2004 Percent Using the Internet vs GDP Per Capita<br>\n",
    "b. 2009 Percent Using the Internet vs GDP Per Capita<br>\n",
    "c. 2014 Percent Using the Internet vs GDP Per Capita"
   ]
  },
  {
   "cell_type": "code",
   "execution_count": 137,
   "metadata": {},
   "outputs": [
    {
     "data": {
      "text/plain": [
       "<matplotlib.legend.Legend at 0x1a16938f50>"
      ]
     },
     "execution_count": 137,
     "metadata": {},
     "output_type": "execute_result"
    },
    {
     "data": {
      "image/png": "[encoded data removed]",
      "text/plain": [
       "<Figure size 432x288 with 1 Axes>"
      ]
     },
     "metadata": {
      "needs_background": "light"
     },
     "output_type": "display_data"
    }
   ],
   "source": [
    "plt.plot(gdp_and_internet_use_2004['GDP_Per_Capita'], gdp_and_internet_use_2004['Internet_Users_Pct'], \n",
    "         'o', color='black', label=2004);\n",
    "plt.plot(gdp_and_internet_use_2009['GDP_Per_Capita'], gdp_and_internet_use_2009['Internet_Users_Pct'], \n",
    "         'o', color='blue', label=2009);\n",
    "plt.plot(gdp_and_internet_use_2014['GDP_Per_Capita'], gdp_and_internet_use_2014['Internet_Users_Pct'], \n",
    "         'o', color='green', label=2014);\n",
    "\n",
    "\n",
    "# Add labels and legend\n",
    "plt.xlabel('GDP per Capita')\n",
    "plt.ylabel('% Internet Use')\n",
    "plt.title('Percent Using the Internet vs GDP Per Capita')\n",
    "plt.legend(bbox_to_anchor=(1.2,0.9),\n",
    "           bbox_transform=plt.gcf().transFigure)"
   ]
  },
  {
   "cell_type": "code",
   "execution_count": 139,
   "metadata": {},
   "outputs": [
    {
     "data": {
      "text/plain": [
       "Text(0.5, 1.0, 'Percent Using the Internet vs GDP Per Capita in 2004')"
      ]
     },
     "execution_count": 139,
     "metadata": {},
     "output_type": "execute_result"
    },
    {
     "data": {
      "image/png": "[encoded data removed]",
      "text/plain": [
       "<Figure size 432x288 with 1 Axes>"
      ]
     },
     "metadata": {
      "needs_background": "light"
     },
     "output_type": "display_data"
    }
   ],
   "source": [
    "plt.plot(gdp_and_internet_use_2004['GDP_Per_Capita'], gdp_and_internet_use_2004['Internet_Users_Pct'], 'o', color='black');\n",
    "# Add labels \n",
    "plt.xlabel('GDP per Capita')\n",
    "plt.ylabel('% Internet Use')\n",
    "plt.title('Percent Using the Internet vs GDP Per Capita in 2004')\n"
   ]
  },
  {
   "cell_type": "code",
   "execution_count": 140,
   "metadata": {},
   "outputs": [
    {
     "data": {
      "text/plain": [
       "Text(0.5, 1.0, 'Percent Using the Internet vs GDP Per Capita in 2009')"
      ]
     },
     "execution_count": 140,
     "metadata": {},
     "output_type": "execute_result"
    },
    {
     "data": {
      "image/png": "[encoded data removed]",
      "text/plain": [
       "<Figure size 432x288 with 1 Axes>"
      ]
     },
     "metadata": {
      "needs_background": "light"
     },
     "output_type": "display_data"
    }
   ],
   "source": [
    "plt.plot(gdp_and_internet_use_2009['GDP_Per_Capita'], gdp_and_internet_use_2009['Internet_Users_Pct'], 'o', color='blue');\n",
    "# Add labels \n",
    "plt.xlabel('GDP per Capita')\n",
    "plt.ylabel('% Internet Use')\n",
    "plt.title('Percent Using the Internet vs GDP Per Capita in 2009')\n"
   ]
  },
  {
   "cell_type": "code",
   "execution_count": 141,
   "metadata": {},
   "outputs": [
    {
     "data": {
      "text/plain": [
       "Text(0.5, 1.0, 'Percent Using the Internet vs GDP Per Capita in 2014')"
      ]
     },
     "execution_count": 141,
     "metadata": {},
     "output_type": "execute_result"
    },
    {
     "data": {
      "image/png": "[encoded data removed]",
      "text/plain": [
       "<Figure size 432x288 with 1 Axes>"
      ]
     },
     "metadata": {
      "needs_background": "light"
     },
     "output_type": "display_data"
    }
   ],
   "source": [
    "plt.plot(gdp_and_internet_use_2014['GDP_Per_Capita'], gdp_and_internet_use_2014['Internet_Users_Pct'], \n",
    "         'o', color='green');\n",
    "# Add labels \n",
    "plt.xlabel('GDP per Capita')\n",
    "plt.ylabel('% Internet Use')\n",
    "plt.title('Percent Using the Internet vs GDP Per Capita in 2014')\n"
   ]
  },
  {
   "cell_type": "markdown",
   "metadata": {},
   "source": [
    "# Observations\n",
    "\n",
    "In 2009 and 2004, even some of the rich companies had low levels of Internet usage. This has changed over time. By 2014, the plot shows most growth toward the bottom end of GDP_Per_Capita, the poorer countries. By this year, rich countries have most of their citizens online and the poorer countries are getting their citizens online as well, though without the help of a larger GDP.\n",
    "\n"
   ]
  },
  {
   "cell_type": "markdown",
   "metadata": {},
   "source": [
    "# Q19\n",
    "<b>Look at the distribution of gdp per capita values for 2014. Is it unimodal?</b><br>\n",
    "No, this distribution is multimodal, nonsymmetric and skewed right"
   ]
  },
  {
   "cell_type": "code",
   "execution_count": 162,
   "metadata": {},
   "outputs": [
    {
     "data": {
      "text/plain": [
       "array([[<matplotlib.axes._subplots.AxesSubplot object at 0x1a202ca9d0>]],\n",
       "      dtype=object)"
      ]
     },
     "execution_count": 162,
     "metadata": {},
     "output_type": "execute_result"
    },
    {
     "data": {
      "image/png": "[encoded data removed]",
      "text/plain": [
       "<Figure size 432x288 with 1 Axes>"
      ]
     },
     "metadata": {
      "needs_background": "light"
     },
     "output_type": "display_data"
    }
   ],
   "source": [
    "gdp_and_internet_use_2014.hist('Internet_Users_Pct', bins=11)"
   ]
  },
  {
   "cell_type": "code",
   "execution_count": 167,
   "metadata": {},
   "outputs": [],
   "source": [
    "# sns.distplot(gdp_and_internet_use_2014['Internet_Users_Pct'].dropna)"
   ]
  },
  {
   "cell_type": "markdown",
   "metadata": {},
   "source": [
    "# Q20\n",
    "<b>What are the top 5 countries in terms of internet use in 2014?</b><br>\n",
    "  Internet_Users_Pct is the key variable here\n",
    "\n",
    "<p><b>Create a data frame called top_5_internet from the combined data frame that has all three years for these 5 countries. </b><br>\n",
    "You should have 15 rows. Check that this is true.\n"
   ]
  },
  {
   "cell_type": "code",
   "execution_count": 29,
   "metadata": {},
   "outputs": [
    {
     "data": {
      "text/html": [
       "<div>\n",
       "<style scoped>\n",
       "    .dataframe tbody tr th:only-of-type {\n",
       "        vertical-align: middle;\n",
       "    }\n",
       "\n",
       "    .dataframe tbody tr th {\n",
       "        vertical-align: top;\n",
       "    }\n",
       "\n",
       "    .dataframe thead th {\n",
       "        text-align: right;\n",
       "    }\n",
       "</style>\n",
       "<table border=\"1\" class=\"dataframe\">\n",
       "  <thead>\n",
       "    <tr style=\"text-align: right;\">\n",
       "      <th></th>\n",
       "      <th>Country</th>\n",
       "      <th>Year</th>\n",
       "      <th>GDP_Per_Capita</th>\n",
       "      <th>Internet_Users_Pct</th>\n",
       "    </tr>\n",
       "  </thead>\n",
       "  <tbody>\n",
       "    <tr>\n",
       "      <td>5852</td>\n",
       "      <td>Sweden</td>\n",
       "      <td>2004</td>\n",
       "      <td>40177.850408</td>\n",
       "      <td>83.89</td>\n",
       "    </tr>\n",
       "    <tr>\n",
       "      <td>2591</td>\n",
       "      <td>Iceland</td>\n",
       "      <td>2004</td>\n",
       "      <td>38893.378798</td>\n",
       "      <td>83.88</td>\n",
       "    </tr>\n",
       "    <tr>\n",
       "      <td>1414</td>\n",
       "      <td>Denmark</td>\n",
       "      <td>2004</td>\n",
       "      <td>43670.446201</td>\n",
       "      <td>80.93</td>\n",
       "    </tr>\n",
       "    <tr>\n",
       "      <td>4540</td>\n",
       "      <td>Norway</td>\n",
       "      <td>2004</td>\n",
       "      <td>61612.275634</td>\n",
       "      <td>77.69</td>\n",
       "    </tr>\n",
       "    <tr>\n",
       "      <td>7247</td>\n",
       "      <td>Korea (Rep. of)</td>\n",
       "      <td>2004</td>\n",
       "      <td>NaN</td>\n",
       "      <td>72.70</td>\n",
       "    </tr>\n",
       "    <tr>\n",
       "      <td>2586</td>\n",
       "      <td>Iceland</td>\n",
       "      <td>2009</td>\n",
       "      <td>41505.084834</td>\n",
       "      <td>93.00</td>\n",
       "    </tr>\n",
       "    <tr>\n",
       "      <td>4535</td>\n",
       "      <td>Norway</td>\n",
       "      <td>2009</td>\n",
       "      <td>62617.153609</td>\n",
       "      <td>92.08</td>\n",
       "    </tr>\n",
       "    <tr>\n",
       "      <td>5847</td>\n",
       "      <td>Sweden</td>\n",
       "      <td>2009</td>\n",
       "      <td>41327.626252</td>\n",
       "      <td>91.00</td>\n",
       "    </tr>\n",
       "    <tr>\n",
       "      <td>4332</td>\n",
       "      <td>Netherlands</td>\n",
       "      <td>2009</td>\n",
       "      <td>45724.862764</td>\n",
       "      <td>89.63</td>\n",
       "    </tr>\n",
       "    <tr>\n",
       "      <td>3615</td>\n",
       "      <td>Luxembourg</td>\n",
       "      <td>2009</td>\n",
       "      <td>89098.734264</td>\n",
       "      <td>87.31</td>\n",
       "    </tr>\n",
       "    <tr>\n",
       "      <td>2581</td>\n",
       "      <td>Iceland</td>\n",
       "      <td>2014</td>\n",
       "      <td>42774.888849</td>\n",
       "      <td>98.16</td>\n",
       "    </tr>\n",
       "    <tr>\n",
       "      <td>6772</td>\n",
       "      <td>Bermuda</td>\n",
       "      <td>2014</td>\n",
       "      <td>NaN</td>\n",
       "      <td>96.80</td>\n",
       "    </tr>\n",
       "    <tr>\n",
       "      <td>4530</td>\n",
       "      <td>Norway</td>\n",
       "      <td>2014</td>\n",
       "      <td>63328.259526</td>\n",
       "      <td>96.30</td>\n",
       "    </tr>\n",
       "    <tr>\n",
       "      <td>1404</td>\n",
       "      <td>Denmark</td>\n",
       "      <td>2014</td>\n",
       "      <td>45057.083449</td>\n",
       "      <td>95.99</td>\n",
       "    </tr>\n",
       "    <tr>\n",
       "      <td>6732</td>\n",
       "      <td>Andorra</td>\n",
       "      <td>2014</td>\n",
       "      <td>NaN</td>\n",
       "      <td>95.90</td>\n",
       "    </tr>\n",
       "  </tbody>\n",
       "</table>\n",
       "</div>"
      ],
      "text/plain": [
       "              Country  Year  GDP_Per_Capita  Internet_Users_Pct\n",
       "5852           Sweden  2004    40177.850408               83.89\n",
       "2591          Iceland  2004    38893.378798               83.88\n",
       "1414          Denmark  2004    43670.446201               80.93\n",
       "4540           Norway  2004    61612.275634               77.69\n",
       "7247  Korea (Rep. of)  2004             NaN               72.70\n",
       "2586          Iceland  2009    41505.084834               93.00\n",
       "4535           Norway  2009    62617.153609               92.08\n",
       "5847           Sweden  2009    41327.626252               91.00\n",
       "4332      Netherlands  2009    45724.862764               89.63\n",
       "3615       Luxembourg  2009    89098.734264               87.31\n",
       "2581          Iceland  2014    42774.888849               98.16\n",
       "6772          Bermuda  2014             NaN               96.80\n",
       "4530           Norway  2014    63328.259526               96.30\n",
       "1404          Denmark  2014    45057.083449               95.99\n",
       "6732          Andorra  2014             NaN               95.90"
      ]
     },
     "execution_count": 29,
     "metadata": {},
     "output_type": "execute_result"
    }
   ],
   "source": [
    "# Create dataframes for each Top 5\n",
    "top5_gdp_and_internet_use_2004 = gdp_and_internet_use_2004.nlargest(5,'Internet_Users_Pct')\n",
    "top5_gdp_and_internet_use_2009 = gdp_and_internet_use_2009.nlargest(5,'Internet_Users_Pct')\n",
    "top5_gdp_and_internet_use_2014 = gdp_and_internet_use_2014.nlargest(5,'Internet_Users_Pct')\n",
    "\n",
    "# concatenate Top 5 dataframes\n",
    "top5_internet = pd.concat([top5_gdp_and_internet_use_2004,top5_gdp_and_internet_use_2009, top5_gdp_and_internet_use_2014])\n",
    "top5_internet\n",
    "\n",
    "\n"
   ]
  },
  {
   "cell_type": "markdown",
   "metadata": {},
   "source": [
    "# Q21\n",
    "Create a seaborn FacetGrid to show the internet usage trend over time for these 5 countries (those with the highest reported internet use in 2014). Which country had the greatest growth between 2004 and 2014? Is there a plotting issue with Bermuda? Can you fix it?"
   ]
  },
  {
   "cell_type": "code",
   "execution_count": 73,
   "metadata": {},
   "outputs": [
    {
     "data": {
      "image/png": "[encoded data removed]",
      "text/plain": [
       "<Figure size 1517.62x432 with 3 Axes>"
      ]
     },
     "metadata": {
      "needs_background": "light"
     },
     "output_type": "display_data"
    }
   ],
   "source": [
    "import seaborn as sns\n",
    "\n",
    "top5_internet\n",
    "\n",
    "usage_over_time = sns.FacetGrid(top5_internet, col='Year', hue='Country', col_wrap=3, height=6)\n",
    "usage_over_time.map(plt.bar, 'Country','Internet_Users_Pct')\n",
    "usage_over_time.add_legend(ncol=2, title='Highest % Internet Users');\n",
    "\n",
    "# DEBUGDEBUG: This section returns the wrong info as it's not been limited to the 10-year period\n",
    "# AND the plots below, show the wrong percentages for Andorra's internet usage. \n",
    "# Checking the db for just Andorra gives different results. "
   ]
  },
  {
   "cell_type": "markdown",
   "metadata": {},
   "source": [
    "# Q22\n",
    "<b>Which country had the greatest growth between 2004 and 2014? </b><br>\n",
    "Andorra had the greatest growth between 2004 and 2014: from 26.84% in 2004 to 95.9% in 2014."
   ]
  },
  {
   "cell_type": "code",
   "execution_count": 42,
   "metadata": {},
   "outputs": [
    {
     "data": {
      "image/png": "[encoded data removed]",
      "text/plain": [
       "<Figure size 1429x432 with 3 Axes>"
      ]
     },
     "metadata": {
      "needs_background": "light"
     },
     "output_type": "display_data"
    }
   ],
   "source": [
    "# NOTE: This code shows that Andorra's percentage was 26.84 in 2004 and 95.9 in 2014. \n",
    "find_andorra2004 = gdp_and_internet_use_2004.loc[gdp_and_internet_use_2004['Country']=='Andorra']\n",
    "find_andorra2009 = gdp_and_internet_use_2009.loc[gdp_and_internet_use_2009['Country']=='Andorra']\n",
    "find_andorra2014 = gdp_and_internet_use_2014.loc[gdp_and_internet_use_2014['Country']=='Andorra']\n",
    "find_andorra = pd.concat([find_andorra2004,find_andorra2009,find_andorra2014])\n",
    "\n",
    "# plot the stats so easier to read\n",
    "usage_over_time2 = sns.FacetGrid(find_andorra, col='Year', hue='Country', col_wrap=3, height=6)\n",
    "usage_over_time2.map(plt.bar, 'Country','Internet_Users_Pct')\n",
    "usage_over_time2.add_legend(ncol=2, title='Highest % Internet Users');\n",
    "\n",
    "#find_andorra"
   ]
  },
  {
   "cell_type": "code",
   "execution_count": 68,
   "metadata": {},
   "outputs": [
    {
     "name": "stdout",
     "output_type": "stream",
     "text": [
      "      Country  Year  GDP_Per_Capita  Internet_Users_Pct\n",
      "2581  Iceland  2014    42774.888849               98.16\n",
      "6772  Bermuda  2014             NaN               96.80\n",
      "4530   Norway  2014    63328.259526               96.30\n",
      "1404  Denmark  2014    45057.083449               95.99\n",
      "6732  Andorra  2014             NaN               95.90\n",
      "['Iceland', 'Bermuda', 'Norway', 'Denmark', 'Andorra']\n"
     ]
    },
    {
     "data": {
      "text/html": [
       "<div>\n",
       "<style scoped>\n",
       "    .dataframe tbody tr th:only-of-type {\n",
       "        vertical-align: middle;\n",
       "    }\n",
       "\n",
       "    .dataframe tbody tr th {\n",
       "        vertical-align: top;\n",
       "    }\n",
       "\n",
       "    .dataframe thead th {\n",
       "        text-align: right;\n",
       "    }\n",
       "</style>\n",
       "<table border=\"1\" class=\"dataframe\">\n",
       "  <thead>\n",
       "    <tr style=\"text-align: right;\">\n",
       "      <th></th>\n",
       "      <th>Country</th>\n",
       "      <th>Year</th>\n",
       "      <th>GDP_Per_Capita</th>\n",
       "      <th>Internet_Users_Pct</th>\n",
       "    </tr>\n",
       "  </thead>\n",
       "  <tbody>\n",
       "    <tr>\n",
       "      <td>538</td>\n",
       "      <td>Bermuda</td>\n",
       "      <td>2013</td>\n",
       "      <td>50669.314770</td>\n",
       "      <td>95.300000</td>\n",
       "    </tr>\n",
       "    <tr>\n",
       "      <td>539</td>\n",
       "      <td>Bermuda</td>\n",
       "      <td>2012</td>\n",
       "      <td>52137.300373</td>\n",
       "      <td>91.299305</td>\n",
       "    </tr>\n",
       "    <tr>\n",
       "      <td>540</td>\n",
       "      <td>Bermuda</td>\n",
       "      <td>2011</td>\n",
       "      <td>54984.510395</td>\n",
       "      <td>88.336000</td>\n",
       "    </tr>\n",
       "    <tr>\n",
       "      <td>541</td>\n",
       "      <td>Bermuda</td>\n",
       "      <td>2010</td>\n",
       "      <td>56395.007800</td>\n",
       "      <td>84.210000</td>\n",
       "    </tr>\n",
       "    <tr>\n",
       "      <td>542</td>\n",
       "      <td>Bermuda</td>\n",
       "      <td>2009</td>\n",
       "      <td>57151.919132</td>\n",
       "      <td>83.250000</td>\n",
       "    </tr>\n",
       "    <tr>\n",
       "      <td>543</td>\n",
       "      <td>Bermuda</td>\n",
       "      <td>2008</td>\n",
       "      <td>60675.982086</td>\n",
       "      <td>82.300000</td>\n",
       "    </tr>\n",
       "    <tr>\n",
       "      <td>544</td>\n",
       "      <td>Bermuda</td>\n",
       "      <td>2007</td>\n",
       "      <td>60117.459910</td>\n",
       "      <td>74.350594</td>\n",
       "    </tr>\n",
       "    <tr>\n",
       "      <td>545</td>\n",
       "      <td>Bermuda</td>\n",
       "      <td>2006</td>\n",
       "      <td>58784.593291</td>\n",
       "      <td>69.899655</td>\n",
       "    </tr>\n",
       "    <tr>\n",
       "      <td>546</td>\n",
       "      <td>Bermuda</td>\n",
       "      <td>2005</td>\n",
       "      <td>56017.191620</td>\n",
       "      <td>65.447066</td>\n",
       "    </tr>\n",
       "    <tr>\n",
       "      <td>547</td>\n",
       "      <td>Bermuda</td>\n",
       "      <td>2004</td>\n",
       "      <td>55452.638880</td>\n",
       "      <td>60.990867</td>\n",
       "    </tr>\n",
       "    <tr>\n",
       "      <td>1404</td>\n",
       "      <td>Denmark</td>\n",
       "      <td>2014</td>\n",
       "      <td>45057.083449</td>\n",
       "      <td>95.990000</td>\n",
       "    </tr>\n",
       "    <tr>\n",
       "      <td>1405</td>\n",
       "      <td>Denmark</td>\n",
       "      <td>2013</td>\n",
       "      <td>44564.453068</td>\n",
       "      <td>94.629700</td>\n",
       "    </tr>\n",
       "    <tr>\n",
       "      <td>1406</td>\n",
       "      <td>Denmark</td>\n",
       "      <td>2012</td>\n",
       "      <td>44336.817026</td>\n",
       "      <td>92.260012</td>\n",
       "    </tr>\n",
       "    <tr>\n",
       "      <td>1407</td>\n",
       "      <td>Denmark</td>\n",
       "      <td>2011</td>\n",
       "      <td>44403.384841</td>\n",
       "      <td>89.810013</td>\n",
       "    </tr>\n",
       "    <tr>\n",
       "      <td>1408</td>\n",
       "      <td>Denmark</td>\n",
       "      <td>2010</td>\n",
       "      <td>43998.426101</td>\n",
       "      <td>88.720000</td>\n",
       "    </tr>\n",
       "    <tr>\n",
       "      <td>1409</td>\n",
       "      <td>Denmark</td>\n",
       "      <td>2009</td>\n",
       "      <td>43382.615688</td>\n",
       "      <td>86.840000</td>\n",
       "    </tr>\n",
       "    <tr>\n",
       "      <td>1410</td>\n",
       "      <td>Denmark</td>\n",
       "      <td>2008</td>\n",
       "      <td>45865.796321</td>\n",
       "      <td>85.020000</td>\n",
       "    </tr>\n",
       "    <tr>\n",
       "      <td>1411</td>\n",
       "      <td>Denmark</td>\n",
       "      <td>2007</td>\n",
       "      <td>46373.513074</td>\n",
       "      <td>85.030000</td>\n",
       "    </tr>\n",
       "    <tr>\n",
       "      <td>1412</td>\n",
       "      <td>Denmark</td>\n",
       "      <td>2006</td>\n",
       "      <td>46159.916588</td>\n",
       "      <td>86.650000</td>\n",
       "    </tr>\n",
       "    <tr>\n",
       "      <td>1413</td>\n",
       "      <td>Denmark</td>\n",
       "      <td>2005</td>\n",
       "      <td>44567.922141</td>\n",
       "      <td>82.740000</td>\n",
       "    </tr>\n",
       "    <tr>\n",
       "      <td>1414</td>\n",
       "      <td>Denmark</td>\n",
       "      <td>2004</td>\n",
       "      <td>43670.446201</td>\n",
       "      <td>80.930000</td>\n",
       "    </tr>\n",
       "    <tr>\n",
       "      <td>2581</td>\n",
       "      <td>Iceland</td>\n",
       "      <td>2014</td>\n",
       "      <td>42774.888849</td>\n",
       "      <td>98.160000</td>\n",
       "    </tr>\n",
       "    <tr>\n",
       "      <td>2582</td>\n",
       "      <td>Iceland</td>\n",
       "      <td>2013</td>\n",
       "      <td>42371.959961</td>\n",
       "      <td>96.546800</td>\n",
       "    </tr>\n",
       "    <tr>\n",
       "      <td>2583</td>\n",
       "      <td>Iceland</td>\n",
       "      <td>2012</td>\n",
       "      <td>41076.606122</td>\n",
       "      <td>96.209800</td>\n",
       "    </tr>\n",
       "    <tr>\n",
       "      <td>2584</td>\n",
       "      <td>Iceland</td>\n",
       "      <td>2011</td>\n",
       "      <td>40767.236414</td>\n",
       "      <td>94.819687</td>\n",
       "    </tr>\n",
       "    <tr>\n",
       "      <td>2585</td>\n",
       "      <td>Iceland</td>\n",
       "      <td>2010</td>\n",
       "      <td>40136.737154</td>\n",
       "      <td>93.390000</td>\n",
       "    </tr>\n",
       "    <tr>\n",
       "      <td>2586</td>\n",
       "      <td>Iceland</td>\n",
       "      <td>2009</td>\n",
       "      <td>41505.084834</td>\n",
       "      <td>93.000000</td>\n",
       "    </tr>\n",
       "    <tr>\n",
       "      <td>2587</td>\n",
       "      <td>Iceland</td>\n",
       "      <td>2008</td>\n",
       "      <td>44674.657124</td>\n",
       "      <td>91.000000</td>\n",
       "    </tr>\n",
       "    <tr>\n",
       "      <td>2588</td>\n",
       "      <td>Iceland</td>\n",
       "      <td>2007</td>\n",
       "      <td>44624.279895</td>\n",
       "      <td>90.600000</td>\n",
       "    </tr>\n",
       "    <tr>\n",
       "      <td>2589</td>\n",
       "      <td>Iceland</td>\n",
       "      <td>2006</td>\n",
       "      <td>41848.471696</td>\n",
       "      <td>89.510000</td>\n",
       "    </tr>\n",
       "    <tr>\n",
       "      <td>2590</td>\n",
       "      <td>Iceland</td>\n",
       "      <td>2005</td>\n",
       "      <td>40705.874789</td>\n",
       "      <td>87.000000</td>\n",
       "    </tr>\n",
       "    <tr>\n",
       "      <td>2591</td>\n",
       "      <td>Iceland</td>\n",
       "      <td>2004</td>\n",
       "      <td>38893.378798</td>\n",
       "      <td>83.880000</td>\n",
       "    </tr>\n",
       "    <tr>\n",
       "      <td>4530</td>\n",
       "      <td>Norway</td>\n",
       "      <td>2014</td>\n",
       "      <td>63328.259526</td>\n",
       "      <td>96.300000</td>\n",
       "    </tr>\n",
       "    <tr>\n",
       "      <td>4531</td>\n",
       "      <td>Norway</td>\n",
       "      <td>2013</td>\n",
       "      <td>62809.418409</td>\n",
       "      <td>95.053400</td>\n",
       "    </tr>\n",
       "    <tr>\n",
       "      <td>4532</td>\n",
       "      <td>Norway</td>\n",
       "      <td>2012</td>\n",
       "      <td>62922.815422</td>\n",
       "      <td>94.649978</td>\n",
       "    </tr>\n",
       "    <tr>\n",
       "      <td>4533</td>\n",
       "      <td>Norway</td>\n",
       "      <td>2011</td>\n",
       "      <td>62076.740658</td>\n",
       "      <td>93.489983</td>\n",
       "    </tr>\n",
       "    <tr>\n",
       "      <td>4534</td>\n",
       "      <td>Norway</td>\n",
       "      <td>2010</td>\n",
       "      <td>62276.018906</td>\n",
       "      <td>93.390000</td>\n",
       "    </tr>\n",
       "    <tr>\n",
       "      <td>4535</td>\n",
       "      <td>Norway</td>\n",
       "      <td>2009</td>\n",
       "      <td>62617.153609</td>\n",
       "      <td>92.080000</td>\n",
       "    </tr>\n",
       "    <tr>\n",
       "      <td>4536</td>\n",
       "      <td>Norway</td>\n",
       "      <td>2008</td>\n",
       "      <td>64526.216938</td>\n",
       "      <td>90.570000</td>\n",
       "    </tr>\n",
       "    <tr>\n",
       "      <td>4537</td>\n",
       "      <td>Norway</td>\n",
       "      <td>2007</td>\n",
       "      <td>65025.691557</td>\n",
       "      <td>86.930000</td>\n",
       "    </tr>\n",
       "    <tr>\n",
       "      <td>4538</td>\n",
       "      <td>Norway</td>\n",
       "      <td>2006</td>\n",
       "      <td>63791.936694</td>\n",
       "      <td>82.550000</td>\n",
       "    </tr>\n",
       "    <tr>\n",
       "      <td>4539</td>\n",
       "      <td>Norway</td>\n",
       "      <td>2005</td>\n",
       "      <td>62800.701375</td>\n",
       "      <td>81.990000</td>\n",
       "    </tr>\n",
       "    <tr>\n",
       "      <td>4540</td>\n",
       "      <td>Norway</td>\n",
       "      <td>2004</td>\n",
       "      <td>61612.275634</td>\n",
       "      <td>77.690000</td>\n",
       "    </tr>\n",
       "    <tr>\n",
       "      <td>6732</td>\n",
       "      <td>Andorra</td>\n",
       "      <td>2014</td>\n",
       "      <td>NaN</td>\n",
       "      <td>95.900000</td>\n",
       "    </tr>\n",
       "    <tr>\n",
       "      <td>6733</td>\n",
       "      <td>Andorra</td>\n",
       "      <td>2013</td>\n",
       "      <td>NaN</td>\n",
       "      <td>94.000000</td>\n",
       "    </tr>\n",
       "    <tr>\n",
       "      <td>6734</td>\n",
       "      <td>Andorra</td>\n",
       "      <td>2012</td>\n",
       "      <td>NaN</td>\n",
       "      <td>86.434425</td>\n",
       "    </tr>\n",
       "    <tr>\n",
       "      <td>6735</td>\n",
       "      <td>Andorra</td>\n",
       "      <td>2011</td>\n",
       "      <td>NaN</td>\n",
       "      <td>81.000000</td>\n",
       "    </tr>\n",
       "    <tr>\n",
       "      <td>6736</td>\n",
       "      <td>Andorra</td>\n",
       "      <td>2010</td>\n",
       "      <td>NaN</td>\n",
       "      <td>81.000000</td>\n",
       "    </tr>\n",
       "    <tr>\n",
       "      <td>6737</td>\n",
       "      <td>Andorra</td>\n",
       "      <td>2009</td>\n",
       "      <td>NaN</td>\n",
       "      <td>78.530000</td>\n",
       "    </tr>\n",
       "    <tr>\n",
       "      <td>6738</td>\n",
       "      <td>Andorra</td>\n",
       "      <td>2008</td>\n",
       "      <td>NaN</td>\n",
       "      <td>70.040000</td>\n",
       "    </tr>\n",
       "    <tr>\n",
       "      <td>6739</td>\n",
       "      <td>Andorra</td>\n",
       "      <td>2007</td>\n",
       "      <td>NaN</td>\n",
       "      <td>70.870000</td>\n",
       "    </tr>\n",
       "    <tr>\n",
       "      <td>6740</td>\n",
       "      <td>Andorra</td>\n",
       "      <td>2006</td>\n",
       "      <td>NaN</td>\n",
       "      <td>48.936847</td>\n",
       "    </tr>\n",
       "    <tr>\n",
       "      <td>6741</td>\n",
       "      <td>Andorra</td>\n",
       "      <td>2005</td>\n",
       "      <td>NaN</td>\n",
       "      <td>37.605766</td>\n",
       "    </tr>\n",
       "    <tr>\n",
       "      <td>6742</td>\n",
       "      <td>Andorra</td>\n",
       "      <td>2004</td>\n",
       "      <td>NaN</td>\n",
       "      <td>26.837954</td>\n",
       "    </tr>\n",
       "    <tr>\n",
       "      <td>6772</td>\n",
       "      <td>Bermuda</td>\n",
       "      <td>2014</td>\n",
       "      <td>NaN</td>\n",
       "      <td>96.800000</td>\n",
       "    </tr>\n",
       "  </tbody>\n",
       "</table>\n",
       "</div>"
      ],
      "text/plain": [
       "      Country  Year  GDP_Per_Capita  Internet_Users_Pct\n",
       "538   Bermuda  2013    50669.314770           95.300000\n",
       "539   Bermuda  2012    52137.300373           91.299305\n",
       "540   Bermuda  2011    54984.510395           88.336000\n",
       "541   Bermuda  2010    56395.007800           84.210000\n",
       "542   Bermuda  2009    57151.919132           83.250000\n",
       "543   Bermuda  2008    60675.982086           82.300000\n",
       "544   Bermuda  2007    60117.459910           74.350594\n",
       "545   Bermuda  2006    58784.593291           69.899655\n",
       "546   Bermuda  2005    56017.191620           65.447066\n",
       "547   Bermuda  2004    55452.638880           60.990867\n",
       "1404  Denmark  2014    45057.083449           95.990000\n",
       "1405  Denmark  2013    44564.453068           94.629700\n",
       "1406  Denmark  2012    44336.817026           92.260012\n",
       "1407  Denmark  2011    44403.384841           89.810013\n",
       "1408  Denmark  2010    43998.426101           88.720000\n",
       "1409  Denmark  2009    43382.615688           86.840000\n",
       "1410  Denmark  2008    45865.796321           85.020000\n",
       "1411  Denmark  2007    46373.513074           85.030000\n",
       "1412  Denmark  2006    46159.916588           86.650000\n",
       "1413  Denmark  2005    44567.922141           82.740000\n",
       "1414  Denmark  2004    43670.446201           80.930000\n",
       "2581  Iceland  2014    42774.888849           98.160000\n",
       "2582  Iceland  2013    42371.959961           96.546800\n",
       "2583  Iceland  2012    41076.606122           96.209800\n",
       "2584  Iceland  2011    40767.236414           94.819687\n",
       "2585  Iceland  2010    40136.737154           93.390000\n",
       "2586  Iceland  2009    41505.084834           93.000000\n",
       "2587  Iceland  2008    44674.657124           91.000000\n",
       "2588  Iceland  2007    44624.279895           90.600000\n",
       "2589  Iceland  2006    41848.471696           89.510000\n",
       "2590  Iceland  2005    40705.874789           87.000000\n",
       "2591  Iceland  2004    38893.378798           83.880000\n",
       "4530   Norway  2014    63328.259526           96.300000\n",
       "4531   Norway  2013    62809.418409           95.053400\n",
       "4532   Norway  2012    62922.815422           94.649978\n",
       "4533   Norway  2011    62076.740658           93.489983\n",
       "4534   Norway  2010    62276.018906           93.390000\n",
       "4535   Norway  2009    62617.153609           92.080000\n",
       "4536   Norway  2008    64526.216938           90.570000\n",
       "4537   Norway  2007    65025.691557           86.930000\n",
       "4538   Norway  2006    63791.936694           82.550000\n",
       "4539   Norway  2005    62800.701375           81.990000\n",
       "4540   Norway  2004    61612.275634           77.690000\n",
       "6732  Andorra  2014             NaN           95.900000\n",
       "6733  Andorra  2013             NaN           94.000000\n",
       "6734  Andorra  2012             NaN           86.434425\n",
       "6735  Andorra  2011             NaN           81.000000\n",
       "6736  Andorra  2010             NaN           81.000000\n",
       "6737  Andorra  2009             NaN           78.530000\n",
       "6738  Andorra  2008             NaN           70.040000\n",
       "6739  Andorra  2007             NaN           70.870000\n",
       "6740  Andorra  2006             NaN           48.936847\n",
       "6741  Andorra  2005             NaN           37.605766\n",
       "6742  Andorra  2004             NaN           26.837954\n",
       "6772  Bermuda  2014             NaN           96.800000"
      ]
     },
     "execution_count": 68,
     "metadata": {},
     "output_type": "execute_result"
    }
   ],
   "source": [
    "'''\n",
    "   NOTE: this block of code puts the names of the top5 countries (for 2014)* into a list that can be used as a filter \n",
    "   for the entire data set. This allows us to generate 10-year trends for the top5.\n",
    "   \n",
    "   * 2014 is not specified, but the top 5 of 2014 have higher percentages than previous years so included by default.\n",
    "   A better(?) way to do this might be to specify 2014 IF using that year is more important than getting the top5 \n",
    "   countries over the 10-yer period. \n",
    "\n",
    "'''\n",
    "\n",
    "the_real_top5 = top5_internet.nlargest(5,'Internet_Users_Pct') \n",
    "print(the_real_top5)\n",
    "\n",
    "ten_year_trends_names = the_real_top5['Country'].values.tolist() \n",
    "print(ten_year_trends_names)\n",
    "\n",
    "ten_year_trends_period = [2004, 2005, 2006, 2007, 2008, 2009, 2010, 2011, 2012, 2013, 2014]\n",
    "\n",
    "#Now convert list to a set \n",
    "#ten_year_trends_set = set(ten_year_trends_list) \n",
    "#print(ten_year_trends_set)\n",
    "\n",
    "#Use the set as filter on gdp_and_internet_use\n",
    "ten_year_trends_subset = gdp_and_internet_use[gdp_and_internet_use.Country.isin(ten_year_trends_names)&\n",
    "                                             (gdp_and_internet_use.Year.isin(ten_year_trends_period))] \n",
    "ten_year_trends_subset"
   ]
  },
  {
   "cell_type": "code",
   "execution_count": 144,
   "metadata": {},
   "outputs": [
    {
     "data": {
      "text/plain": [
       "Text(0.5, 1.0, 'Top 5 Using the Internet vs GDP Per Capita: 2004-14')"
      ]
     },
     "execution_count": 144,
     "metadata": {},
     "output_type": "execute_result"
    },
    {
     "data": {
      "image/png": "[encoded data removed]",
      "text/plain": [
       "<Figure size 432x288 with 1 Axes>"
      ]
     },
     "metadata": {
      "needs_background": "light"
     },
     "output_type": "display_data"
    }
   ],
   "source": [
    "# plot the stats so easier to read\n",
    "usage_over_10years = sns.lineplot(x='Year', y='Internet_Users_Pct', hue='Country', data=ten_year_trends_subset,\n",
    "                                 )\n",
    "usage_over_10years\n",
    "# Add labels \n",
    "plt.xlabel('GDP per Capita')\n",
    "plt.ylabel('% Internet Use')\n",
    "plt.title('Top 5 Using the Internet vs GDP Per Capita: 2004-14')\n"
   ]
  },
  {
   "cell_type": "code",
   "execution_count": 70,
   "metadata": {},
   "outputs": [
    {
     "data": {
      "text/html": [
       "<div>\n",
       "<style scoped>\n",
       "    .dataframe tbody tr th:only-of-type {\n",
       "        vertical-align: middle;\n",
       "    }\n",
       "\n",
       "    .dataframe tbody tr th {\n",
       "        vertical-align: top;\n",
       "    }\n",
       "\n",
       "    .dataframe thead th {\n",
       "        text-align: right;\n",
       "    }\n",
       "</style>\n",
       "<table border=\"1\" class=\"dataframe\">\n",
       "  <thead>\n",
       "    <tr style=\"text-align: right;\">\n",
       "      <th></th>\n",
       "      <th>Country</th>\n",
       "      <th>Year</th>\n",
       "      <th>GDP_Per_Capita</th>\n",
       "      <th>Internet_Users_Pct</th>\n",
       "    </tr>\n",
       "  </thead>\n",
       "  <tbody>\n",
       "    <tr>\n",
       "      <td>538</td>\n",
       "      <td>Bermuda</td>\n",
       "      <td>2013</td>\n",
       "      <td>50669.314770</td>\n",
       "      <td>95.300000</td>\n",
       "    </tr>\n",
       "    <tr>\n",
       "      <td>539</td>\n",
       "      <td>Bermuda</td>\n",
       "      <td>2012</td>\n",
       "      <td>52137.300373</td>\n",
       "      <td>91.299305</td>\n",
       "    </tr>\n",
       "    <tr>\n",
       "      <td>540</td>\n",
       "      <td>Bermuda</td>\n",
       "      <td>2011</td>\n",
       "      <td>54984.510395</td>\n",
       "      <td>88.336000</td>\n",
       "    </tr>\n",
       "    <tr>\n",
       "      <td>541</td>\n",
       "      <td>Bermuda</td>\n",
       "      <td>2010</td>\n",
       "      <td>56395.007800</td>\n",
       "      <td>84.210000</td>\n",
       "    </tr>\n",
       "    <tr>\n",
       "      <td>542</td>\n",
       "      <td>Bermuda</td>\n",
       "      <td>2009</td>\n",
       "      <td>57151.919132</td>\n",
       "      <td>83.250000</td>\n",
       "    </tr>\n",
       "    <tr>\n",
       "      <td>543</td>\n",
       "      <td>Bermuda</td>\n",
       "      <td>2008</td>\n",
       "      <td>60675.982086</td>\n",
       "      <td>82.300000</td>\n",
       "    </tr>\n",
       "    <tr>\n",
       "      <td>544</td>\n",
       "      <td>Bermuda</td>\n",
       "      <td>2007</td>\n",
       "      <td>60117.459910</td>\n",
       "      <td>74.350594</td>\n",
       "    </tr>\n",
       "    <tr>\n",
       "      <td>545</td>\n",
       "      <td>Bermuda</td>\n",
       "      <td>2006</td>\n",
       "      <td>58784.593291</td>\n",
       "      <td>69.899655</td>\n",
       "    </tr>\n",
       "    <tr>\n",
       "      <td>546</td>\n",
       "      <td>Bermuda</td>\n",
       "      <td>2005</td>\n",
       "      <td>56017.191620</td>\n",
       "      <td>65.447066</td>\n",
       "    </tr>\n",
       "    <tr>\n",
       "      <td>547</td>\n",
       "      <td>Bermuda</td>\n",
       "      <td>2004</td>\n",
       "      <td>55452.638880</td>\n",
       "      <td>60.990867</td>\n",
       "    </tr>\n",
       "    <tr>\n",
       "      <td>1404</td>\n",
       "      <td>Denmark</td>\n",
       "      <td>2014</td>\n",
       "      <td>45057.083449</td>\n",
       "      <td>95.990000</td>\n",
       "    </tr>\n",
       "    <tr>\n",
       "      <td>1405</td>\n",
       "      <td>Denmark</td>\n",
       "      <td>2013</td>\n",
       "      <td>44564.453068</td>\n",
       "      <td>94.629700</td>\n",
       "    </tr>\n",
       "    <tr>\n",
       "      <td>1406</td>\n",
       "      <td>Denmark</td>\n",
       "      <td>2012</td>\n",
       "      <td>44336.817026</td>\n",
       "      <td>92.260012</td>\n",
       "    </tr>\n",
       "    <tr>\n",
       "      <td>1407</td>\n",
       "      <td>Denmark</td>\n",
       "      <td>2011</td>\n",
       "      <td>44403.384841</td>\n",
       "      <td>89.810013</td>\n",
       "    </tr>\n",
       "    <tr>\n",
       "      <td>1408</td>\n",
       "      <td>Denmark</td>\n",
       "      <td>2010</td>\n",
       "      <td>43998.426101</td>\n",
       "      <td>88.720000</td>\n",
       "    </tr>\n",
       "    <tr>\n",
       "      <td>1409</td>\n",
       "      <td>Denmark</td>\n",
       "      <td>2009</td>\n",
       "      <td>43382.615688</td>\n",
       "      <td>86.840000</td>\n",
       "    </tr>\n",
       "    <tr>\n",
       "      <td>1410</td>\n",
       "      <td>Denmark</td>\n",
       "      <td>2008</td>\n",
       "      <td>45865.796321</td>\n",
       "      <td>85.020000</td>\n",
       "    </tr>\n",
       "    <tr>\n",
       "      <td>1411</td>\n",
       "      <td>Denmark</td>\n",
       "      <td>2007</td>\n",
       "      <td>46373.513074</td>\n",
       "      <td>85.030000</td>\n",
       "    </tr>\n",
       "    <tr>\n",
       "      <td>1412</td>\n",
       "      <td>Denmark</td>\n",
       "      <td>2006</td>\n",
       "      <td>46159.916588</td>\n",
       "      <td>86.650000</td>\n",
       "    </tr>\n",
       "    <tr>\n",
       "      <td>1413</td>\n",
       "      <td>Denmark</td>\n",
       "      <td>2005</td>\n",
       "      <td>44567.922141</td>\n",
       "      <td>82.740000</td>\n",
       "    </tr>\n",
       "    <tr>\n",
       "      <td>1414</td>\n",
       "      <td>Denmark</td>\n",
       "      <td>2004</td>\n",
       "      <td>43670.446201</td>\n",
       "      <td>80.930000</td>\n",
       "    </tr>\n",
       "    <tr>\n",
       "      <td>2581</td>\n",
       "      <td>Iceland</td>\n",
       "      <td>2014</td>\n",
       "      <td>42774.888849</td>\n",
       "      <td>98.160000</td>\n",
       "    </tr>\n",
       "    <tr>\n",
       "      <td>2582</td>\n",
       "      <td>Iceland</td>\n",
       "      <td>2013</td>\n",
       "      <td>42371.959961</td>\n",
       "      <td>96.546800</td>\n",
       "    </tr>\n",
       "    <tr>\n",
       "      <td>2583</td>\n",
       "      <td>Iceland</td>\n",
       "      <td>2012</td>\n",
       "      <td>41076.606122</td>\n",
       "      <td>96.209800</td>\n",
       "    </tr>\n",
       "    <tr>\n",
       "      <td>2584</td>\n",
       "      <td>Iceland</td>\n",
       "      <td>2011</td>\n",
       "      <td>40767.236414</td>\n",
       "      <td>94.819687</td>\n",
       "    </tr>\n",
       "    <tr>\n",
       "      <td>2585</td>\n",
       "      <td>Iceland</td>\n",
       "      <td>2010</td>\n",
       "      <td>40136.737154</td>\n",
       "      <td>93.390000</td>\n",
       "    </tr>\n",
       "    <tr>\n",
       "      <td>2586</td>\n",
       "      <td>Iceland</td>\n",
       "      <td>2009</td>\n",
       "      <td>41505.084834</td>\n",
       "      <td>93.000000</td>\n",
       "    </tr>\n",
       "    <tr>\n",
       "      <td>2587</td>\n",
       "      <td>Iceland</td>\n",
       "      <td>2008</td>\n",
       "      <td>44674.657124</td>\n",
       "      <td>91.000000</td>\n",
       "    </tr>\n",
       "    <tr>\n",
       "      <td>2588</td>\n",
       "      <td>Iceland</td>\n",
       "      <td>2007</td>\n",
       "      <td>44624.279895</td>\n",
       "      <td>90.600000</td>\n",
       "    </tr>\n",
       "    <tr>\n",
       "      <td>2589</td>\n",
       "      <td>Iceland</td>\n",
       "      <td>2006</td>\n",
       "      <td>41848.471696</td>\n",
       "      <td>89.510000</td>\n",
       "    </tr>\n",
       "    <tr>\n",
       "      <td>2590</td>\n",
       "      <td>Iceland</td>\n",
       "      <td>2005</td>\n",
       "      <td>40705.874789</td>\n",
       "      <td>87.000000</td>\n",
       "    </tr>\n",
       "    <tr>\n",
       "      <td>2591</td>\n",
       "      <td>Iceland</td>\n",
       "      <td>2004</td>\n",
       "      <td>38893.378798</td>\n",
       "      <td>83.880000</td>\n",
       "    </tr>\n",
       "    <tr>\n",
       "      <td>4530</td>\n",
       "      <td>Norway</td>\n",
       "      <td>2014</td>\n",
       "      <td>63328.259526</td>\n",
       "      <td>96.300000</td>\n",
       "    </tr>\n",
       "    <tr>\n",
       "      <td>4531</td>\n",
       "      <td>Norway</td>\n",
       "      <td>2013</td>\n",
       "      <td>62809.418409</td>\n",
       "      <td>95.053400</td>\n",
       "    </tr>\n",
       "    <tr>\n",
       "      <td>4532</td>\n",
       "      <td>Norway</td>\n",
       "      <td>2012</td>\n",
       "      <td>62922.815422</td>\n",
       "      <td>94.649978</td>\n",
       "    </tr>\n",
       "    <tr>\n",
       "      <td>4533</td>\n",
       "      <td>Norway</td>\n",
       "      <td>2011</td>\n",
       "      <td>62076.740658</td>\n",
       "      <td>93.489983</td>\n",
       "    </tr>\n",
       "    <tr>\n",
       "      <td>4534</td>\n",
       "      <td>Norway</td>\n",
       "      <td>2010</td>\n",
       "      <td>62276.018906</td>\n",
       "      <td>93.390000</td>\n",
       "    </tr>\n",
       "    <tr>\n",
       "      <td>4535</td>\n",
       "      <td>Norway</td>\n",
       "      <td>2009</td>\n",
       "      <td>62617.153609</td>\n",
       "      <td>92.080000</td>\n",
       "    </tr>\n",
       "    <tr>\n",
       "      <td>4536</td>\n",
       "      <td>Norway</td>\n",
       "      <td>2008</td>\n",
       "      <td>64526.216938</td>\n",
       "      <td>90.570000</td>\n",
       "    </tr>\n",
       "    <tr>\n",
       "      <td>4537</td>\n",
       "      <td>Norway</td>\n",
       "      <td>2007</td>\n",
       "      <td>65025.691557</td>\n",
       "      <td>86.930000</td>\n",
       "    </tr>\n",
       "    <tr>\n",
       "      <td>4538</td>\n",
       "      <td>Norway</td>\n",
       "      <td>2006</td>\n",
       "      <td>63791.936694</td>\n",
       "      <td>82.550000</td>\n",
       "    </tr>\n",
       "    <tr>\n",
       "      <td>4539</td>\n",
       "      <td>Norway</td>\n",
       "      <td>2005</td>\n",
       "      <td>62800.701375</td>\n",
       "      <td>81.990000</td>\n",
       "    </tr>\n",
       "    <tr>\n",
       "      <td>4540</td>\n",
       "      <td>Norway</td>\n",
       "      <td>2004</td>\n",
       "      <td>61612.275634</td>\n",
       "      <td>77.690000</td>\n",
       "    </tr>\n",
       "    <tr>\n",
       "      <td>6732</td>\n",
       "      <td>Andorra</td>\n",
       "      <td>2014</td>\n",
       "      <td>NaN</td>\n",
       "      <td>95.900000</td>\n",
       "    </tr>\n",
       "    <tr>\n",
       "      <td>6733</td>\n",
       "      <td>Andorra</td>\n",
       "      <td>2013</td>\n",
       "      <td>NaN</td>\n",
       "      <td>94.000000</td>\n",
       "    </tr>\n",
       "    <tr>\n",
       "      <td>6734</td>\n",
       "      <td>Andorra</td>\n",
       "      <td>2012</td>\n",
       "      <td>NaN</td>\n",
       "      <td>86.434425</td>\n",
       "    </tr>\n",
       "    <tr>\n",
       "      <td>6735</td>\n",
       "      <td>Andorra</td>\n",
       "      <td>2011</td>\n",
       "      <td>NaN</td>\n",
       "      <td>81.000000</td>\n",
       "    </tr>\n",
       "    <tr>\n",
       "      <td>6736</td>\n",
       "      <td>Andorra</td>\n",
       "      <td>2010</td>\n",
       "      <td>NaN</td>\n",
       "      <td>81.000000</td>\n",
       "    </tr>\n",
       "    <tr>\n",
       "      <td>6737</td>\n",
       "      <td>Andorra</td>\n",
       "      <td>2009</td>\n",
       "      <td>NaN</td>\n",
       "      <td>78.530000</td>\n",
       "    </tr>\n",
       "    <tr>\n",
       "      <td>6738</td>\n",
       "      <td>Andorra</td>\n",
       "      <td>2008</td>\n",
       "      <td>NaN</td>\n",
       "      <td>70.040000</td>\n",
       "    </tr>\n",
       "    <tr>\n",
       "      <td>6739</td>\n",
       "      <td>Andorra</td>\n",
       "      <td>2007</td>\n",
       "      <td>NaN</td>\n",
       "      <td>70.870000</td>\n",
       "    </tr>\n",
       "    <tr>\n",
       "      <td>6740</td>\n",
       "      <td>Andorra</td>\n",
       "      <td>2006</td>\n",
       "      <td>NaN</td>\n",
       "      <td>48.936847</td>\n",
       "    </tr>\n",
       "    <tr>\n",
       "      <td>6741</td>\n",
       "      <td>Andorra</td>\n",
       "      <td>2005</td>\n",
       "      <td>NaN</td>\n",
       "      <td>37.605766</td>\n",
       "    </tr>\n",
       "    <tr>\n",
       "      <td>6742</td>\n",
       "      <td>Andorra</td>\n",
       "      <td>2004</td>\n",
       "      <td>NaN</td>\n",
       "      <td>26.837954</td>\n",
       "    </tr>\n",
       "    <tr>\n",
       "      <td>6772</td>\n",
       "      <td>Bermuda</td>\n",
       "      <td>2014</td>\n",
       "      <td>NaN</td>\n",
       "      <td>96.800000</td>\n",
       "    </tr>\n",
       "  </tbody>\n",
       "</table>\n",
       "</div>"
      ],
      "text/plain": [
       "      Country  Year  GDP_Per_Capita  Internet_Users_Pct\n",
       "538   Bermuda  2013    50669.314770           95.300000\n",
       "539   Bermuda  2012    52137.300373           91.299305\n",
       "540   Bermuda  2011    54984.510395           88.336000\n",
       "541   Bermuda  2010    56395.007800           84.210000\n",
       "542   Bermuda  2009    57151.919132           83.250000\n",
       "543   Bermuda  2008    60675.982086           82.300000\n",
       "544   Bermuda  2007    60117.459910           74.350594\n",
       "545   Bermuda  2006    58784.593291           69.899655\n",
       "546   Bermuda  2005    56017.191620           65.447066\n",
       "547   Bermuda  2004    55452.638880           60.990867\n",
       "1404  Denmark  2014    45057.083449           95.990000\n",
       "1405  Denmark  2013    44564.453068           94.629700\n",
       "1406  Denmark  2012    44336.817026           92.260012\n",
       "1407  Denmark  2011    44403.384841           89.810013\n",
       "1408  Denmark  2010    43998.426101           88.720000\n",
       "1409  Denmark  2009    43382.615688           86.840000\n",
       "1410  Denmark  2008    45865.796321           85.020000\n",
       "1411  Denmark  2007    46373.513074           85.030000\n",
       "1412  Denmark  2006    46159.916588           86.650000\n",
       "1413  Denmark  2005    44567.922141           82.740000\n",
       "1414  Denmark  2004    43670.446201           80.930000\n",
       "2581  Iceland  2014    42774.888849           98.160000\n",
       "2582  Iceland  2013    42371.959961           96.546800\n",
       "2583  Iceland  2012    41076.606122           96.209800\n",
       "2584  Iceland  2011    40767.236414           94.819687\n",
       "2585  Iceland  2010    40136.737154           93.390000\n",
       "2586  Iceland  2009    41505.084834           93.000000\n",
       "2587  Iceland  2008    44674.657124           91.000000\n",
       "2588  Iceland  2007    44624.279895           90.600000\n",
       "2589  Iceland  2006    41848.471696           89.510000\n",
       "2590  Iceland  2005    40705.874789           87.000000\n",
       "2591  Iceland  2004    38893.378798           83.880000\n",
       "4530   Norway  2014    63328.259526           96.300000\n",
       "4531   Norway  2013    62809.418409           95.053400\n",
       "4532   Norway  2012    62922.815422           94.649978\n",
       "4533   Norway  2011    62076.740658           93.489983\n",
       "4534   Norway  2010    62276.018906           93.390000\n",
       "4535   Norway  2009    62617.153609           92.080000\n",
       "4536   Norway  2008    64526.216938           90.570000\n",
       "4537   Norway  2007    65025.691557           86.930000\n",
       "4538   Norway  2006    63791.936694           82.550000\n",
       "4539   Norway  2005    62800.701375           81.990000\n",
       "4540   Norway  2004    61612.275634           77.690000\n",
       "6732  Andorra  2014             NaN           95.900000\n",
       "6733  Andorra  2013             NaN           94.000000\n",
       "6734  Andorra  2012             NaN           86.434425\n",
       "6735  Andorra  2011             NaN           81.000000\n",
       "6736  Andorra  2010             NaN           81.000000\n",
       "6737  Andorra  2009             NaN           78.530000\n",
       "6738  Andorra  2008             NaN           70.040000\n",
       "6739  Andorra  2007             NaN           70.870000\n",
       "6740  Andorra  2006             NaN           48.936847\n",
       "6741  Andorra  2005             NaN           37.605766\n",
       "6742  Andorra  2004             NaN           26.837954\n",
       "6772  Bermuda  2014             NaN           96.800000"
      ]
     },
     "execution_count": 70,
     "metadata": {},
     "output_type": "execute_result"
    }
   ],
   "source": [
    "# NOTE: just put this here for reference\n",
    "ten_year_trends_subset\n"
   ]
  },
  {
   "cell_type": "code",
   "execution_count": 169,
   "metadata": {
    "scrolled": false
   },
   "outputs": [
    {
     "data": {
      "image/png": "[encoded data removed]",
      "text/plain": [
       "<Figure size 1465.88x1728 with 11 Axes>"
      ]
     },
     "metadata": {
      "needs_background": "light"
     },
     "output_type": "display_data"
    }
   ],
   "source": [
    "# Note: This is a corrected version of the previos FacetGrid, now sorted properly and including all years, 2004-14\n",
    "usage_over_time_corrected = sns.FacetGrid(ten_year_trends_subset, col='Year', hue='Country', col_wrap=3, height=6)\n",
    "usage_over_time_corrected.map(plt.bar, 'Country','Internet_Users_Pct')\n",
    "usage_over_time_corrected.add_legend(ncol=2, title='Highest % Internet Users');\n"
   ]
  },
  {
   "cell_type": "code",
   "execution_count": 171,
   "metadata": {},
   "outputs": [
    {
     "data": {
      "image/png": "[encoded data removed]",
      "text/plain": [
       "<Figure size 1213x216 with 5 Axes>"
      ]
     },
     "metadata": {
      "needs_background": "light"
     },
     "output_type": "display_data"
    }
   ],
   "source": [
    "# Note: This is a line version FacetGrid, now sorted properly \n",
    "usage_over_time_corrected = sns.FacetGrid(ten_year_trends_subset, col='Country')\n",
    "usage_over_time_corrected.map(plt.plot, 'Year','Internet_Users_Pct')\n",
    "usage_over_time_corrected.add_legend(ncol=2, title='Highest % Internet Users');\n"
   ]
  },
  {
   "cell_type": "markdown",
   "metadata": {},
   "source": [
    "# Bermuda"
   ]
  },
  {
   "cell_type": "code",
   "execution_count": 65,
   "metadata": {},
   "outputs": [
    {
     "data": {
      "text/html": [
       "<div>\n",
       "<style scoped>\n",
       "    .dataframe tbody tr th:only-of-type {\n",
       "        vertical-align: middle;\n",
       "    }\n",
       "\n",
       "    .dataframe tbody tr th {\n",
       "        vertical-align: top;\n",
       "    }\n",
       "\n",
       "    .dataframe thead th {\n",
       "        text-align: right;\n",
       "    }\n",
       "</style>\n",
       "<table border=\"1\" class=\"dataframe\">\n",
       "  <thead>\n",
       "    <tr style=\"text-align: right;\">\n",
       "      <th></th>\n",
       "      <th>Country</th>\n",
       "      <th>Year</th>\n",
       "      <th>GDP_Per_Capita</th>\n",
       "      <th>Internet_Users_Pct</th>\n",
       "    </tr>\n",
       "  </thead>\n",
       "  <tbody>\n",
       "    <tr>\n",
       "      <td>538</td>\n",
       "      <td>Bermuda</td>\n",
       "      <td>2013</td>\n",
       "      <td>50669.314770</td>\n",
       "      <td>95.300000</td>\n",
       "    </tr>\n",
       "    <tr>\n",
       "      <td>539</td>\n",
       "      <td>Bermuda</td>\n",
       "      <td>2012</td>\n",
       "      <td>52137.300373</td>\n",
       "      <td>91.299305</td>\n",
       "    </tr>\n",
       "    <tr>\n",
       "      <td>540</td>\n",
       "      <td>Bermuda</td>\n",
       "      <td>2011</td>\n",
       "      <td>54984.510395</td>\n",
       "      <td>88.336000</td>\n",
       "    </tr>\n",
       "    <tr>\n",
       "      <td>541</td>\n",
       "      <td>Bermuda</td>\n",
       "      <td>2010</td>\n",
       "      <td>56395.007800</td>\n",
       "      <td>84.210000</td>\n",
       "    </tr>\n",
       "    <tr>\n",
       "      <td>542</td>\n",
       "      <td>Bermuda</td>\n",
       "      <td>2009</td>\n",
       "      <td>57151.919132</td>\n",
       "      <td>83.250000</td>\n",
       "    </tr>\n",
       "    <tr>\n",
       "      <td>543</td>\n",
       "      <td>Bermuda</td>\n",
       "      <td>2008</td>\n",
       "      <td>60675.982086</td>\n",
       "      <td>82.300000</td>\n",
       "    </tr>\n",
       "    <tr>\n",
       "      <td>544</td>\n",
       "      <td>Bermuda</td>\n",
       "      <td>2007</td>\n",
       "      <td>60117.459910</td>\n",
       "      <td>74.350594</td>\n",
       "    </tr>\n",
       "    <tr>\n",
       "      <td>545</td>\n",
       "      <td>Bermuda</td>\n",
       "      <td>2006</td>\n",
       "      <td>58784.593291</td>\n",
       "      <td>69.899655</td>\n",
       "    </tr>\n",
       "    <tr>\n",
       "      <td>546</td>\n",
       "      <td>Bermuda</td>\n",
       "      <td>2005</td>\n",
       "      <td>56017.191620</td>\n",
       "      <td>65.447066</td>\n",
       "    </tr>\n",
       "    <tr>\n",
       "      <td>547</td>\n",
       "      <td>Bermuda</td>\n",
       "      <td>2004</td>\n",
       "      <td>55452.638880</td>\n",
       "      <td>60.990867</td>\n",
       "    </tr>\n",
       "    <tr>\n",
       "      <td>548</td>\n",
       "      <td>Bermuda</td>\n",
       "      <td>2003</td>\n",
       "      <td>54549.801163</td>\n",
       "      <td>56.522012</td>\n",
       "    </tr>\n",
       "    <tr>\n",
       "      <td>549</td>\n",
       "      <td>Bermuda</td>\n",
       "      <td>2002</td>\n",
       "      <td>53096.925492</td>\n",
       "      <td>52.031597</td>\n",
       "    </tr>\n",
       "    <tr>\n",
       "      <td>550</td>\n",
       "      <td>Bermuda</td>\n",
       "      <td>2001</td>\n",
       "      <td>54245.149640</td>\n",
       "      <td>47.509700</td>\n",
       "    </tr>\n",
       "    <tr>\n",
       "      <td>551</td>\n",
       "      <td>Bermuda</td>\n",
       "      <td>2000</td>\n",
       "      <td>51140.236845</td>\n",
       "      <td>42.949860</td>\n",
       "    </tr>\n",
       "    <tr>\n",
       "      <td>552</td>\n",
       "      <td>Bermuda</td>\n",
       "      <td>1999</td>\n",
       "      <td>47199.841446</td>\n",
       "      <td>39.947589</td>\n",
       "    </tr>\n",
       "    <tr>\n",
       "      <td>553</td>\n",
       "      <td>Bermuda</td>\n",
       "      <td>1998</td>\n",
       "      <td>45911.686500</td>\n",
       "      <td>32.103759</td>\n",
       "    </tr>\n",
       "    <tr>\n",
       "      <td>554</td>\n",
       "      <td>Bermuda</td>\n",
       "      <td>1997</td>\n",
       "      <td>44514.109416</td>\n",
       "      <td>24.189257</td>\n",
       "    </tr>\n",
       "    <tr>\n",
       "      <td>555</td>\n",
       "      <td>Bermuda</td>\n",
       "      <td>1996</td>\n",
       "      <td>42816.963244</td>\n",
       "      <td>16.202466</td>\n",
       "    </tr>\n",
       "    <tr>\n",
       "      <td>556</td>\n",
       "      <td>Bermuda</td>\n",
       "      <td>1995</td>\n",
       "      <td>41999.259464</td>\n",
       "      <td>6.838163</td>\n",
       "    </tr>\n",
       "    <tr>\n",
       "      <td>557</td>\n",
       "      <td>Bermuda</td>\n",
       "      <td>1994</td>\n",
       "      <td>40518.407818</td>\n",
       "      <td>NaN</td>\n",
       "    </tr>\n",
       "    <tr>\n",
       "      <td>558</td>\n",
       "      <td>Bermuda</td>\n",
       "      <td>1993</td>\n",
       "      <td>40557.220156</td>\n",
       "      <td>NaN</td>\n",
       "    </tr>\n",
       "    <tr>\n",
       "      <td>559</td>\n",
       "      <td>Bermuda</td>\n",
       "      <td>1992</td>\n",
       "      <td>39584.329859</td>\n",
       "      <td>NaN</td>\n",
       "    </tr>\n",
       "    <tr>\n",
       "      <td>560</td>\n",
       "      <td>Bermuda</td>\n",
       "      <td>1991</td>\n",
       "      <td>39322.109183</td>\n",
       "      <td>NaN</td>\n",
       "    </tr>\n",
       "    <tr>\n",
       "      <td>561</td>\n",
       "      <td>Bermuda</td>\n",
       "      <td>1990</td>\n",
       "      <td>40553.258521</td>\n",
       "      <td>0.000000</td>\n",
       "    </tr>\n",
       "    <tr>\n",
       "      <td>6772</td>\n",
       "      <td>Bermuda</td>\n",
       "      <td>2014</td>\n",
       "      <td>NaN</td>\n",
       "      <td>96.800000</td>\n",
       "    </tr>\n",
       "  </tbody>\n",
       "</table>\n",
       "</div>"
      ],
      "text/plain": [
       "      Country  Year  GDP_Per_Capita  Internet_Users_Pct\n",
       "538   Bermuda  2013    50669.314770           95.300000\n",
       "539   Bermuda  2012    52137.300373           91.299305\n",
       "540   Bermuda  2011    54984.510395           88.336000\n",
       "541   Bermuda  2010    56395.007800           84.210000\n",
       "542   Bermuda  2009    57151.919132           83.250000\n",
       "543   Bermuda  2008    60675.982086           82.300000\n",
       "544   Bermuda  2007    60117.459910           74.350594\n",
       "545   Bermuda  2006    58784.593291           69.899655\n",
       "546   Bermuda  2005    56017.191620           65.447066\n",
       "547   Bermuda  2004    55452.638880           60.990867\n",
       "548   Bermuda  2003    54549.801163           56.522012\n",
       "549   Bermuda  2002    53096.925492           52.031597\n",
       "550   Bermuda  2001    54245.149640           47.509700\n",
       "551   Bermuda  2000    51140.236845           42.949860\n",
       "552   Bermuda  1999    47199.841446           39.947589\n",
       "553   Bermuda  1998    45911.686500           32.103759\n",
       "554   Bermuda  1997    44514.109416           24.189257\n",
       "555   Bermuda  1996    42816.963244           16.202466\n",
       "556   Bermuda  1995    41999.259464            6.838163\n",
       "557   Bermuda  1994    40518.407818                 NaN\n",
       "558   Bermuda  1993    40557.220156                 NaN\n",
       "559   Bermuda  1992    39584.329859                 NaN\n",
       "560   Bermuda  1991    39322.109183                 NaN\n",
       "561   Bermuda  1990    40553.258521            0.000000\n",
       "6772  Bermuda  2014             NaN           96.800000"
      ]
     },
     "execution_count": 65,
     "metadata": {},
     "output_type": "execute_result"
    }
   ],
   "source": [
    "# Is there a plotting issue with Bermuda? Can you fix it?\n",
    "\n",
    "# Get Bermuda stats\n",
    "gdp_and_internet_use_bermuda = gdp_and_internet_use[gdp_and_internet_use['Country']=='Bermuda']\n",
    "\n",
    "gdp_and_internet_use_bermuda"
   ]
  },
  {
   "cell_type": "markdown",
   "metadata": {},
   "source": [
    "The database does not have 2014 Internet stats for Bermuda. Using an INNER JOIN earlier in the code filters the country out. Changing to an OUTER JOIN includes Bermuda, N. Korea and other contries that had been excluded from INNER JOIN. I've changed the code and answers to work with OUTER JOINed data."
   ]
  },
  {
   "cell_type": "code",
   "execution_count": 75,
   "metadata": {},
   "outputs": [],
   "source": [
    "# DEBUGDEBUG: this sction is deprecated. Skip unless needed for reference.\n",
    "# Bermuda's Internet use stats\n",
    "#plt.plot(gdp_and_internet_use_bermuda['Year'], gdp_and_internet_use_bermuda['Internet_Users_Pct']);\n",
    "\n",
    "# DEBUGDEBUG: What's wrong with this plot? The diagonal line is coming from??? not sure"
   ]
  },
  {
   "cell_type": "markdown",
   "metadata": {},
   "source": [
    "<b>Repeat the steps above to look at the trend for the 5 countries with the lowest 2014 internet usage.<br>Which country has consistently had the least internet use?</b>"
   ]
  },
  {
   "cell_type": "code",
   "execution_count": 80,
   "metadata": {},
   "outputs": [
    {
     "name": "stdout",
     "output_type": "stream",
     "text": [
      "                          Country  Year  GDP_Per_Capita  Internet_Users_Pct\n",
      "7521                      Somalia  2014             NaN                1.63\n",
      "794                       Burundi  2014      768.469837                1.38\n",
      "6044                  Timor-Leste  2014     6466.737732                1.14\n",
      "6999                      Eritrea  2014             NaN                0.99\n",
      "6940  Dem. People's Rep. of Korea  2014             NaN                0.00\n",
      "['Somalia', 'Burundi', 'Timor-Leste', 'Eritrea', \"Dem. People's Rep. of Korea\"]\n"
     ]
    }
   ],
   "source": [
    "# Create dataframes for each Bottom 5\n",
    "bottom5_gdp_and_internet_use_2004 = gdp_and_internet_use_2004.nsmallest(5,'Internet_Users_Pct')\n",
    "bottom5_gdp_and_internet_use_2009 = gdp_and_internet_use_2009.nsmallest(5,'Internet_Users_Pct')\n",
    "bottom5_gdp_and_internet_use_2014 = gdp_and_internet_use_2014.nsmallest(5,'Internet_Users_Pct')\n",
    "\n",
    "# concatenate Bottom 5 dataframes\n",
    "bottom5_internet = pd.concat([bottom5_gdp_and_internet_use_2004,bottom5_gdp_and_internet_use_2009, bottom5_gdp_and_internet_use_2014])\n",
    "bottom5_internet\n",
    "\n",
    "the_real_bottom5 = bottom5_gdp_and_internet_use_2014.nlargest(5,'Internet_Users_Pct') \n",
    "print(the_real_bottom5)\n",
    "\n",
    "ten_year_trends_bottom5_names = the_real_bottom5['Country'].values.tolist() \n",
    "print(ten_year_trends_bottom5_names)\n"
   ]
  },
  {
   "cell_type": "code",
   "execution_count": 83,
   "metadata": {},
   "outputs": [
    {
     "data": {
      "image/png": "[encoded data removed]",
      "text/plain": [
       "<Figure size 1580.88x1728 with 11 Axes>"
      ]
     },
     "metadata": {
      "needs_background": "light"
     },
     "output_type": "display_data"
    }
   ],
   "source": [
    "'''usage_over_time2 = sns.FacetGrid(bottom5_internet, col='Year', hue='Country', col_wrap=3, height=6)\n",
    "usage_over_time2.map(plt.bar, 'Country','Internet_Users_Pct')\n",
    "usage_over_time2.add_legend(ncol=2, title='Lowest % Internet Users');\n",
    "'''\n",
    "#Set filter on gdp_and_internet_use\n",
    "ten_year_trends_lowest = gdp_and_internet_use[gdp_and_internet_use.Country.isin(ten_year_trends_bottom5_names)&\n",
    "                                             (gdp_and_internet_use.Year.isin(ten_year_trends_period))] \n",
    "\n",
    "usage_over_time_lowest = sns.FacetGrid(ten_year_trends_lowest, col='Year', hue='Country', col_wrap=3, height=6)\n",
    "usage_over_time_lowest.map(plt.bar, 'Country','Internet_Users_Pct')\n",
    "usage_over_time_lowest.add_legend(ncol=2, title='Highest % Internet Users');\n"
   ]
  },
  {
   "cell_type": "code",
   "execution_count": null,
   "metadata": {},
   "outputs": [],
   "source": [
    "# Note: This is a line version FacetGrid, now sorted properly \n",
    "usage_over_time_corrected = sns.FacetGrid(ten_year_trends_lowest, col='Country')\n",
    "usage_over_time_corrected.map(plt.plot, 'Year','Internet_Users_Pct')\n",
    "usage_over_time_corrected.add_legend(ncol=2, title='Lowest % Internet Users');\n"
   ]
  },
  {
   "cell_type": "code",
   "execution_count": 147,
   "metadata": {},
   "outputs": [
    {
     "data": {
      "text/plain": [
       "<matplotlib.legend.Legend at 0x1a19029f90>"
      ]
     },
     "execution_count": 147,
     "metadata": {},
     "output_type": "execute_result"
    },
    {
     "data": {
      "image/png": "[encoded data removed]",
      "text/plain": [
       "<Figure size 432x288 with 1 Axes>"
      ]
     },
     "metadata": {
      "needs_background": "light"
     },
     "output_type": "display_data"
    }
   ],
   "source": [
    "# plot the stats on one chart so easier to read\n",
    "usage_over_10years2 = sns.lineplot(x='Year', y='Internet_Users_Pct', hue='Country', data=ten_year_trends_lowest,\n",
    "                                 )\n",
    "usage_over_10years2\n",
    "# Add labels \n",
    "plt.xlabel('GDP per Capita')\n",
    "plt.ylabel('% Internet Use')\n",
    "plt.title('Lowest % Using the Internet vs GDP Per Capita: 2004-14')\n",
    "plt.legend(bbox_to_anchor=(1,0.9),\n",
    "           bbox_transform=plt.gcf().transFigure)"
   ]
  },
  {
   "cell_type": "markdown",
   "metadata": {},
   "source": [
    "North Korean consistently has the lowest level of Internet usage."
   ]
  },
  {
   "cell_type": "markdown",
   "metadata": {},
   "source": [
    "# NOTE: The code in this box was useful and I learned something but ultimately did not use it to solve this question\n",
    "\n",
    "\n",
    "<b>I need to get the names of the Top 5 countries dataframe into a list <br>\n",
    "NOTE: This returns more than 5 countries because the top 5 are not the same 5 each year to fix, get the top 5 percentages from the top 5 list</b>\n",
    "the_real_top5 = top5_internet.nlargest(5,'Internet_Users_Pct')\n",
    "print(the_real_top5)\n",
    "\n",
    "ten_year_trends_list = the_real_top5['Country'].values.tolist()\n",
    "print(ten_year_trends_list)\n",
    "\n",
    "<b>Now convert list to a set</b>\n",
    "ten_year_trends_set = set(ten_year_trends_list)\n",
    "print(ten_year_trends_set)\n",
    "\n",
    "<b>Use the set as filter on gdp_and_internet_use</b>\n",
    "ten_year_trends_subset = gdp_and_internet_use[gdp_and_internet_use.Country.isin(ten_year_trends_list)]\n",
    "ten_year_trends_subset.shape\n",
    "\n",
    "# END of NOTE\n",
    "\n"
   ]
  },
  {
   "cell_type": "markdown",
   "metadata": {},
   "source": [
    "<b>Find the top 5 countries for 2014 in terms of GDP per capita; create a dataframe to look at 10-year trends in gdp per capita for those 5 countries. Use a seaborn facet grid for this.</b>"
   ]
  },
  {
   "cell_type": "code",
   "execution_count": 94,
   "metadata": {},
   "outputs": [
    {
     "data": {
      "image/png": "[encoded data removed]",
      "text/plain": [
       "<Figure size 1952.88x2304 with 11 Axes>"
      ]
     },
     "metadata": {
      "needs_background": "light"
     },
     "output_type": "display_data"
    }
   ],
   "source": [
    "\n",
    "# 10-year trends in gdp per capita for top 5 countries\n",
    "# get top 5 countries\n",
    "top5_gdp_2014 = gdp_and_internet_use_2014.nlargest(5,'GDP_Per_Capita')\n",
    "top5_gdp_2014\n",
    "\n",
    "# put names of top5 into list\n",
    "top5_gdp_2014_names = top5_gdp_2014['Country'].values.tolist() \n",
    "top5_gdp_2014_names\n",
    "\n",
    "\n",
    "ten_year_gdp = gdp_and_internet_use[gdp_and_internet_use.Country.isin(top5_gdp_2014_names)&\n",
    "                                             (gdp_and_internet_use.Year.isin(ten_year_trends_period))] \n",
    "\n",
    "ten_year_gdp\n",
    "\n",
    "\n",
    "ten_year_gdp_plot = sns.FacetGrid(ten_year_gdp, col='Year', hue='Country', col_wrap=3, height=8)\n",
    "ten_year_gdp_plot.map(plt.bar, 'Country','GDP_Per_Capita')\n",
    "ten_year_gdp_plot.add_legend(ncol=2, title='Top 5 GDP Over 10-years');\n"
   ]
  },
  {
   "cell_type": "code",
   "execution_count": 149,
   "metadata": {},
   "outputs": [
    {
     "data": {
      "text/plain": [
       "<matplotlib.legend.Legend at 0x1a1d504290>"
      ]
     },
     "execution_count": 149,
     "metadata": {},
     "output_type": "execute_result"
    },
    {
     "data": {
      "image/png": "[encoded data removed]",
      "text/plain": [
       "<Figure size 432x288 with 1 Axes>"
      ]
     },
     "metadata": {
      "needs_background": "light"
     },
     "output_type": "display_data"
    }
   ],
   "source": [
    "# plot the stats on one chart so easier to read\n",
    "gdp_over_10years = sns.lineplot(x='Year', y='GDP_Per_Capita', hue='Country', data=ten_year_gdp,\n",
    "                                 )\n",
    "gdp_over_10years\n",
    "# Add labels \n",
    "plt.xlabel('GDP per Capita')\n",
    "plt.ylabel('% Internet Use')\n",
    "plt.title('10-year Trends: Top 5 GDP Per Capita')\n",
    "plt.legend(bbox_to_anchor=(1,0.9),\n",
    "           bbox_transform=plt.gcf().transFigure)"
   ]
  },
  {
   "cell_type": "markdown",
   "metadata": {},
   "source": [
    "<b>Repeat this one more time to look at 10-year trend for the bottom 5 countries for 2014 in terms of GDP per capita.</b>"
   ]
  },
  {
   "cell_type": "code",
   "execution_count": 100,
   "metadata": {},
   "outputs": [
    {
     "data": {
      "image/png": "[encoded data removed]",
      "text/plain": [
       "<Figure size 1968x2304 with 11 Axes>"
      ]
     },
     "metadata": {
      "needs_background": "light"
     },
     "output_type": "display_data"
    }
   ],
   "source": [
    "# 10-year trends in gdp per capita for bottom 5 countries\n",
    "# get bottom 5 countries\n",
    "bottom5_gdp_2014 = gdp_and_internet_use_2014.nsmallest(5,'GDP_Per_Capita')\n",
    "bottom5_gdp_2014\n",
    "\n",
    "# put names of top5 into list\n",
    "bottom5_gdp_2014_names = bottom5_gdp_2014['Country'].values.tolist() \n",
    "bottom5_gdp_2014_names\n",
    "\n",
    "\n",
    "ten_year_lowest_gdp = gdp_and_internet_use[gdp_and_internet_use.Country.isin(bottom5_gdp_2014_names)&\n",
    "                                             (gdp_and_internet_use.Year.isin(ten_year_trends_period))] \n",
    "\n",
    "ten_year_lowest_gdp\n",
    "\n",
    "ten_year_gdp_plot = sns.FacetGrid(ten_year_lowest_gdp, col='Year', hue='Country', col_wrap=3, height=8)\n",
    "ten_year_gdp_plot.map(plt.bar, 'Country','GDP_Per_Capita')\n",
    "ten_year_gdp_plot.add_legend(ncol=2, title='Top 5 GDP Over 10-years');\n",
    "\n"
   ]
  },
  {
   "cell_type": "code",
   "execution_count": 173,
   "metadata": {},
   "outputs": [
    {
     "data": {
      "image/png": "[encoded data removed]",
      "text/plain": [
       "<Figure size 1232.25x216 with 5 Axes>"
      ]
     },
     "metadata": {
      "needs_background": "light"
     },
     "output_type": "display_data"
    }
   ],
   "source": [
    "usage_over_time_lowest = sns.FacetGrid(ten_year_lowest_gdp, col='Country')\n",
    "usage_over_time_lowest.map(plt.plot, 'Year','GDP_Per_Capita')\n",
    "usage_over_time_lowest.add_legend(ncol=2, title='Bottom 5 GDP Over 10-years');\n",
    "\n"
   ]
  },
  {
   "cell_type": "code",
   "execution_count": 160,
   "metadata": {},
   "outputs": [
    {
     "data": {
      "text/plain": [
       "<matplotlib.legend.Legend at 0x1a20199810>"
      ]
     },
     "execution_count": 160,
     "metadata": {},
     "output_type": "execute_result"
    },
    {
     "data": {
      "image/png": "[encoded data removed]",
      "text/plain": [
       "<Figure size 432x288 with 1 Axes>"
      ]
     },
     "metadata": {
      "needs_background": "light"
     },
     "output_type": "display_data"
    }
   ],
   "source": [
    "# sort chart\n",
    "ten_year_lowest_gdp.sort_values('GDP_Per_Capita')\n",
    "\n",
    "# plot the stats on one chart so easier to read\n",
    "lowest_gdp_over_10years = sns.lineplot(x='Year', y='GDP_Per_Capita', hue='Country', data=ten_year_lowest_gdp,\n",
    "                                 )\n",
    "lowest_gdp_over_10years\n",
    "\n",
    "# Add labels \n",
    "plt.xlabel('GDP per Capita')\n",
    "plt.ylabel('% Internet Use')\n",
    "plt.title('10-year Trends: Bottom 5 GDP Per Capita')\n",
    "plt.legend(bbox_to_anchor=(1,0.9),\n",
    "           bbox_transform=plt.gcf().transFigure)"
   ]
  },
  {
   "cell_type": "markdown",
   "metadata": {},
   "source": [
    "<b>Is there anything surprising or unusual in any of these plots? Searching on the internet, can you find any possible explanations for unusual findings?</b>"
   ]
  },
  {
   "cell_type": "markdown",
   "metadata": {},
   "source": [
    "# Bonus\n",
    "Download another data set from the UN data (http://data.un.org/Explorer.aspx) to merge with your data and explore.\n"
   ]
  },
  {
   "cell_type": "code",
   "execution_count": null,
   "metadata": {},
   "outputs": [],
   "source": []
  }
 ],
 "metadata": {
  "kernelspec": {
   "display_name": "Python 3",
   "language": "python",
   "name": "python3"
  },
  "language_info": {
   "codemirror_mode": {
    "name": "ipython",
    "version": 3
   },
   "file_extension": ".py",
   "mimetype": "text/x-python",
   "name": "python",
   "nbconvert_exporter": "python",
   "pygments_lexer": "ipython3",
   "version": "3.7.4"
  }
 },
 "nbformat": 4,
 "nbformat_minor": 2
}
